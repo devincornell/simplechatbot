{
 "cells": [
  {
   "cell_type": "code",
   "execution_count": 1,
   "metadata": {},
   "outputs": [],
   "source": [
    "# !pip3 install typing pydantic langchain_core langchain_ollama langchain_openai langchain_community langchain_mistralai sqlalchemy sqlite"
   ]
  },
  {
   "cell_type": "code",
   "execution_count": 1,
   "metadata": {},
   "outputs": [],
   "source": [
    "import langchain_core.tools\n",
    "from langchain_core.tools import BaseTool\n",
    "from langchain_community.tools import QuerySQLDataBaseTool\n",
    "from langchain_community.tools import WriteFileTool"
   ]
  },
  {
   "cell_type": "code",
   "execution_count": 2,
   "metadata": {},
   "outputs": [],
   "source": [
    "from sqlalchemy import create_engine\n",
    "from langchain_community.utilities.sql_database import SQLDatabase\n",
    "\n",
    "# Path to your local database\n",
    "db_path = \"chinook.db\"\n",
    "\n",
    "# Create an SQLAlchemy engine\n",
    "engine = create_engine(f\"sqlite:///{db_path}\")\n",
    "db_engine = SQLDatabase(engine)\n"
   ]
  },
  {
   "cell_type": "code",
   "execution_count": 4,
   "metadata": {},
   "outputs": [],
   "source": [
    "import os \n",
    "os.chdir('..')\n",
    "import simplechatbot"
   ]
  },
  {
   "cell_type": "code",
   "execution_count": 5,
   "metadata": {},
   "outputs": [],
   "source": [
    "import getpass\n",
    "import os\n",
    "\n",
    "# if \"MISTRAL_API_KEY\" not in os.environ (create account to get free mistral api key):\n",
    "os.environ[\"MISTRAL_API_KEY\"] = getpass.getpass(\"Enter your Mistral API key: \")"
   ]
  },
  {
   "cell_type": "code",
   "execution_count": 6,
   "metadata": {},
   "outputs": [],
   "source": [
    "from langchain_mistralai import ChatMistralAI\n",
    "\n",
    "llm = ChatMistralAI(\n",
    "    model=\"mistral-large-latest\",\n",
    "    temperature=0,\n",
    "    max_retries=2,\n",
    "    # other params...\n",
    ")"
   ]
  },
  {
   "cell_type": "code",
   "execution_count": 7,
   "metadata": {},
   "outputs": [
    {
     "data": {
      "text/plain": [
       "AIMessage(content=\"Hello! How can I assist you today? Let's have a friendly chat. 😊 How are you doing?\", additional_kwargs={}, response_metadata={'token_usage': {'prompt_tokens': 5, 'total_tokens': 29, 'completion_tokens': 24}, 'model': 'mistral-large-latest', 'finish_reason': 'stop'}, id='run-a0ead94c-9e5e-41e2-88d0-264f93926bc3-0', usage_metadata={'input_tokens': 5, 'output_tokens': 24, 'total_tokens': 29})"
      ]
     },
     "execution_count": 7,
     "metadata": {},
     "output_type": "execute_result"
    }
   ],
   "source": [
    "llm.invoke('hello')"
   ]
  },
  {
   "cell_type": "code",
   "execution_count": 12,
   "metadata": {},
   "outputs": [],
   "source": [
    "def get_tools() -> list[langchain_core.tools.BaseTool]:  \n",
    "    return[QuerySQLDataBaseTool(db = db_engine), WriteFileTool()]"
   ]
  },
  {
   "cell_type": "code",
   "execution_count": 13,
   "metadata": {},
   "outputs": [],
   "source": [
    "mistral_with_history = simplechatbot.andrew.LLMWithHistory(llm,\n",
    "tools = get_tools(),\n",
    "system_message = \"You are an AI assistant\")"
   ]
  },
  {
   "cell_type": "code",
   "execution_count": 14,
   "metadata": {},
   "outputs": [
    {
     "name": "stdout",
     "output_type": "stream",
     "text": [
      "Running sql_db_query tool...\n",
      "\n",
      "Here are the 5 customers from the customers table:\n",
      "\n",
      "1. Luís Gonçalves, Embraer - Empresa Brasileira de Aeronáutica S.A., Av. Brigadeiro Faria Lima, 2170, São José dos Campos, SP, Brazil, 12227-000, +55 (12) 3923-5555, +55 (12) 3923-5566, luisg@embraer.com.br\n",
      "2. Leonie Köhler, Theodor-Heuss-Straße 34, Stuttgart, Germany, 70174, +49 0711 2842222, leonekohler@surfeu.de\n",
      "3. François Tremblay, 1498 rue Bélanger, Montréal, QC, Canada, H2G 1A7, +1 (514) 721-4711, ftremblay@gmail.com\n",
      "4. Bjørn Hansen, Ullevålsveien 14, Oslo, Norway, 0171, +47 22 44 22 22, bjorn.hansen@yahoo.no\n",
      "5. František Wichterlová, JetBrains s.r.o., Klanova 9/506, Prague, Czech Republic, 14700, +420 2 4172 5555, +420 2 4172 5555, frantisekw@jetbrains.com"
     ]
    }
   ],
   "source": [
    "mistral_with_history.send_message_to_llm(\"give me a sample of 5 customers from the customers table\")"
   ]
  },
  {
   "cell_type": "code",
   "execution_count": null,
   "metadata": {},
   "outputs": [],
   "source": [
    "\n"
   ]
  }
 ],
 "metadata": {
  "kernelspec": {
   "display_name": "Python 3",
   "language": "python",
   "name": "python3"
  },
  "language_info": {
   "codemirror_mode": {
    "name": "ipython",
    "version": 3
   },
   "file_extension": ".py",
   "mimetype": "text/x-python",
   "name": "python",
   "nbconvert_exporter": "python",
   "pygments_lexer": "ipython3",
   "version": "3.12.7"
  }
 },
 "nbformat": 4,
 "nbformat_minor": 2
}
