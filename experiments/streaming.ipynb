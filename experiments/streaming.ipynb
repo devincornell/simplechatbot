{
 "cells": [
  {
   "cell_type": "code",
   "execution_count": 1,
   "metadata": {},
   "outputs": [],
   "source": [
    "\n",
    "import time\n",
    "\n",
    "import sys\n",
    "sys.path.append('../src/')\n",
    "\n",
    "import simplechatbot\n",
    "from simplechatbot.ollama_agent import OllamaAgent\n",
    "from simplechatbot.openai_agent import OpenAIAgent"
   ]
  },
  {
   "cell_type": "code",
   "execution_count": 2,
   "metadata": {},
   "outputs": [
    {
     "data": {
      "text/plain": [
       "OllamaAgent(model_type=ChatOllama, model_name=\"Unknown\", tools=ToolLookup(tools={}))"
      ]
     },
     "execution_count": 2,
     "metadata": {},
     "output_type": "execute_result"
    }
   ],
   "source": [
    "keychain = simplechatbot.APIKeyChain.from_json_file('../keys.json')\n",
    "\n",
    "if True:\n",
    "    agent = OllamaAgent.new(\n",
    "        model_name=\"dolphin-mixtral:8x7b\",\n",
    "        system_prompt=\"You are a helpful assistant that is trying to help a user with their computer problems. GIVE VERY LONG RESPONSES.\",\n",
    "    )\n",
    "else:\n",
    "    agent = OpenAIAgent.new(\n",
    "        model_name=\"gpt-4o-mini\",\n",
    "        api_key=keychain['openai'],\n",
    "        system_prompt=\"You are a helpful assistant that is trying to help a user with their computer problems. GIVE VERY LONG RESPONSES.\",\n",
    "    )\n",
    "\n",
    "agent"
   ]
  },
  {
   "cell_type": "code",
   "execution_count": 5,
   "metadata": {},
   "outputs": [
    {
     "name": "stdout",
     "output_type": "stream",
     "text": [
      "! I'm sorry to hear you're experiencing issues with your computer. Let's work together to diagnose and resolve these problems. Before we start, please tell me more about the issues you're facing: which operating system do you use (e.g., Windows, macOS, or Linux), and what specific problems are you encountering?\n",
      "\n",
      "Also, to help me understand your situation better, please share the following information:\n",
      "1. What is the make and model of your computer?\n",
      "2. Are you using any antivirus software? If so, which one?\n",
      "3. Have you made any recent changes or installations (e.g., new hardware, software, updates) before noticing these issues?\n",
      "4. Can you describe what happens when the problem occurs in detail, including any error messages that pop up?\n",
      "5. Are there specific tasks or applications that seem to trigger the issue?\n",
      "\n",
      "Once I have this information, I will be able to provide you with a more targeted and effective troubleshooting strategy."
     ]
    },
    {
     "data": {
      "text/plain": [
       "ChatResult(content=Hello! I'm sorry to hear you're experiencing issues with your computer. Let's work together to diagnose and resolve these problems. Before we start, please tell me more about the issues you're facing: which operating system do you use (e.g., Windows, macOS, or Linux), and what specific problems are you encountering?\n",
       "\n",
       "Also, to help me understand your situation better, please share the following information:\n",
       "1. What is the make and model of your computer?\n",
       "2. Are you using any antivirus software? If so, which one?\n",
       "3. Have you made any recent changes or installations (e.g., new hardware, software, updates) before noticing these issues?\n",
       "4. Can you describe what happens when the problem occurs in detail, including any error messages that pop up?\n",
       "5. Are there specific tasks or applications that seem to trigger the issue?\n",
       "\n",
       "Once I have this information, I will be able to provide you with a more targeted and effective troubleshooting strategy., tool_calls=[])"
      ]
     },
     "execution_count": 5,
     "metadata": {},
     "output_type": "execute_result"
    }
   ],
   "source": [
    "stream = agent.stream(None, add_to_history=False)\n",
    "stream.next()\n",
    "time.sleep(5)\n",
    "stream.print_and_collect()"
   ]
  },
  {
   "cell_type": "code",
   "execution_count": 4,
   "metadata": {},
   "outputs": [
    {
     "name": "stdout",
     "output_type": "stream",
     "text": [
      "Hello! I'm here to assist you with your computer issues and will provide detailed explanations and steps to guide you through the troubleshooting process. Please describe the problem you are experiencing so that we can begin working on a solution together."
     ]
    }
   ],
   "source": [
    "for i, r in enumerate(agent.stream(None, add_to_history=False)):\n",
    "    if i == 0: time.sleep(5)\n",
    "    print(r.content, end='', flush=True)"
   ]
  },
  {
   "cell_type": "code",
   "execution_count": null,
   "metadata": {},
   "outputs": [],
   "source": []
  }
 ],
 "metadata": {
  "kernelspec": {
   "display_name": "base",
   "language": "python",
   "name": "python3"
  },
  "language_info": {
   "codemirror_mode": {
    "name": "ipython",
    "version": 3
   },
   "file_extension": ".py",
   "mimetype": "text/x-python",
   "name": "python",
   "nbconvert_exporter": "python",
   "pygments_lexer": "ipython3",
   "version": "3.12.4"
  }
 },
 "nbformat": 4,
 "nbformat_minor": 2
}
