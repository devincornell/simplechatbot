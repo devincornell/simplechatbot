{
 "cells": [
  {
   "cell_type": "markdown",
   "metadata": {},
   "source": [
    "# Advanced Tool Calling"
   ]
  },
  {
   "cell_type": "code",
   "execution_count": 1,
   "metadata": {},
   "outputs": [],
   "source": [
    "import langchain_core.tools\n",
    "import pydantic\n",
    "\n",
    "import sys\n",
    "sys.path.append('../src/')\n",
    "\n",
    "import simplechatbot\n",
    "from simplechatbot.openai_chatbot import OpenAIChatBot"
   ]
  },
  {
   "cell_type": "code",
   "execution_count": 2,
   "metadata": {},
   "outputs": [],
   "source": [
    "def example_tool_factory(chatbot: simplechatbot.ChatBot) -> list[langchain_core.tools.BaseTool]:\n",
    "    class StoryOutline(pydantic.BaseModel):\n",
    "        \"\"\"Outline of the story.\"\"\"\n",
    "        title: str = pydantic.Field(description=\"Title of the story.\")\n",
    "        story_topic: str = pydantic.Field(description=\"The topic of the story.\")\n",
    "        narrative_arc: str = pydantic.Field(description=\"The narrative arc of the story.\")\n",
    "\n",
    "        ch1_title: str = pydantic.Field(description=\"Title of chapter 1 of the story.\")\n",
    "        ch1_description: str = pydantic.Field(description=\"Longer description of chapter 1.\")\n",
    "\n",
    "        ch2_title: str = pydantic.Field(description=\"Title of chapter 2 of the story.\")\n",
    "        ch2_description: str = pydantic.Field(description=\"Longer description of chapter 2.\")\n",
    "\n",
    "        ch3_title: str = pydantic.Field(description=\"Title of chapter 3 of the story.\")\n",
    "        ch3_description: str = pydantic.Field(description=\"Longer description of chapter 3.\")\n",
    "\n",
    "        def as_str(self) -> str:\n",
    "            return f'title: {self.title}\\n\\ntopic: {self.story_topic}\\n\\nnarrative: {self.narrative_arc}\\n\\n(ch. 1) {self.ch1_title}: {self.ch1_description}\\n\\n(ch. 2) {self.ch2_title}: {self.ch2_description}\\n\\n(ch. 3) {self.ch3_title}: {self.ch3_description}'\n",
    "\n",
    "\n",
    "    system_prompt = \"\"\"\n",
    "    You are designed to produce an outline of the story given some basic information from the user. \n",
    "    The outline includes a title, story topic, and narrative arc, as well as titles and descriptions \n",
    "    of three chapters. You are to take creative liberties in generating the outline. Each chapter should\n",
    "    have its own narrative arc that contributes to the overall story arc. The plot should show character \n",
    "    growth and reflect very Progressive American values.\n",
    "    \"\"\"\n",
    "\n",
    "    outline_structbot = chatbot.structbot_from_model(output_structure=StoryOutline, system_prompt=system_prompt)\n",
    "\n",
    "    @langchain_core.tools.tool\n",
    "    def story_outline_tool(description_of_story: str) -> StoryOutline:\n",
    "        '''Create an outline of a story given a description of the story.'''\n",
    "        return outline_structbot.invoke(description_of_story)\n",
    "\n",
    "    return [story_outline_tool]"
   ]
  },
  {
   "cell_type": "code",
   "execution_count": 3,
   "metadata": {},
   "outputs": [
    {
     "data": {
      "text/plain": [
       "ToolCallInfo(id='call_chgc1HpKmwPI9FFaqhAgbHI6', name='story_outline_tool', type='tool_call', args={'description_of_story': 'Two lifelong friends, Alex and Jamie, embark on a series of adventurous outings in their hometown. They explore local parks, visit quirky cafés, and attend vibrant street festivals. Throughout their journey, they encounter humorous mishaps and unexpected challenges that test their friendship but ultimately strengthen it. As they share laughs and support each other, they learn valuable life lessons about friendship, trust, and living in the moment. The story culminates in a heartfelt celebration of their bond, showcasing the joy of friendship and the memories created along the way.'}, tool=StructuredTool(name='story_outline_tool', description='Create an outline of a story given a description of the story.', args_schema=<class 'langchain_core.utils.pydantic.story_outline_tool'>, func=<function example_tool_factory.<locals>.story_outline_tool at 0x10de8f7e0>))"
      ]
     },
     "execution_count": 3,
     "metadata": {},
     "output_type": "execute_result"
    }
   ],
   "source": [
    "keychain = simplechatbot.APIKeyChain.from_json_file('../keys.json')\n",
    "\n",
    "system_prompt = \"\"\"\n",
    "You are a regular chatbot with the capability to generate a story outline if the user requests.\n",
    "ONLY do this if the user requests though.\n",
    "\"\"\"\n",
    "\n",
    "chatbot = OpenAIChatBot.new(\n",
    "    model_name = 'gpt-4o-mini', \n",
    "    api_key=keychain['openai'],\n",
    "    system_prompt=system_prompt,\n",
    "    tool_factories=[example_tool_factory],\n",
    ")\n",
    "\n",
    "stream = chatbot.stream(f'Create an outline for a story about two friends that have a lot of fun together.')\n",
    "result = stream.print_and_collect()\n",
    "result.tool_calls[0]"
   ]
  },
  {
   "cell_type": "code",
   "execution_count": 4,
   "metadata": {},
   "outputs": [
    {
     "name": "stdout",
     "output_type": "stream",
     "text": [
      "title: Cherished Adventures\n",
      "\n",
      "topic: The enduring power of friendship as experienced through local adventures.\n",
      "\n",
      "narrative: Two best friends, Alex and Jamie, navigate the ups and downs of life through a series of adventurous outings in their hometown. Each outing is fraught with humorous mishaps and challenges that ultimately reinforce their bond and help them grow as individuals. The story showcases their journey of friendship, highlighting the importance of trust, support, and enjoying the moment, culminating in a celebration that honors their deep connection.\n",
      "\n",
      "(ch. 1) Unexpected Delights: Alex and Jamie kick off their series of adventures by exploring a quirky local park known for its bizarre sculptures and themed gardens. As they navigate the whimsical paths, they encounter strange but friendly locals and participate in an impromptu art contest. A mishap involving an overzealous paint-splash leads to laughter and a messy realization about the beauty of imperfection in art and life. This outing underscores the joy of spontaneity and the importance of embracing the unexpected with friends.\n",
      "\n",
      "(ch. 2) Café Capers: On their next adventure, Alex and Jamie decide to visit a string of quirky cafés around their hometown, each more eccentric than the last. From a cat café filled with fluffy companions to a retro diner with nostalgic 80s memorabilia, every stop brings unforeseen challenges—like mistakenly ordering bizarre dishes or getting caught in a trivia showdown with café patrons. Through the trials of dodging spilled coffee and wild culinary experiments, they deepen their understanding of compromising and laughing through life's trials. They learn that supporting each other's quirks is what makes their friendship special.\n",
      "\n",
      "(ch. 3) Festival Frenzy: The duo attends the annual street festival, a vibrant celebration of local culture with food, music, and games. Amidst the chaos, they encounter several unexpected surprises, including a surprise performance by their favorite band. However, when a sudden rainstorm disrupts the festivities, threatening to ruin their day, Alex and Jamie band together to salvage the fun, turning a potential disaster into a hilarious rain dance competition. Through this episode, they demonstrate resilience, adaptability, and the power of positivity in challenging moments, culminating in a heartfelt recognition of their unshakeable bond and the joys of shared experience.\n"
     ]
    }
   ],
   "source": [
    "outline = result.execute_tools()['story_outline_tool'].return_value\n",
    "print(outline.as_str())"
   ]
  }
 ],
 "metadata": {
  "kernelspec": {
   "display_name": "base",
   "language": "python",
   "name": "python3"
  },
  "language_info": {
   "codemirror_mode": {
    "name": "ipython",
    "version": 3
   },
   "file_extension": ".py",
   "mimetype": "text/x-python",
   "name": "python",
   "nbconvert_exporter": "python",
   "pygments_lexer": "ipython3",
   "version": "3.12.4"
  }
 },
 "nbformat": 4,
 "nbformat_minor": 2
}
