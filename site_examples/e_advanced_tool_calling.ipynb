{
 "cells": [
  {
   "cell_type": "markdown",
   "metadata": {},
   "source": [
    "# Advanced Tool Calling"
   ]
  },
  {
   "cell_type": "code",
   "execution_count": 1,
   "metadata": {},
   "outputs": [],
   "source": [
    "import langchain_core.tools\n",
    "import pydantic\n",
    "\n",
    "import sys\n",
    "sys.path.append('..')\n",
    "\n",
    "import simplechatbot\n",
    "from simplechatbot.openai import OpenAIChatBot"
   ]
  },
  {
   "cell_type": "code",
   "execution_count": 2,
   "metadata": {},
   "outputs": [],
   "source": [
    "def example_tool_factory(chatbot: simplechatbot.ChatBot) -> list[langchain_core.tools.BaseTool]:\n",
    "    class StoryOutline(pydantic.BaseModel):\n",
    "        \"\"\"Outline of the story.\"\"\"\n",
    "        title: str = pydantic.Field(description=\"Title of the story.\")\n",
    "        story_topic: str = pydantic.Field(description=\"The topic of the story.\")\n",
    "        narrative_arc: str = pydantic.Field(description=\"The narrative arc of the story.\")\n",
    "\n",
    "        ch1_title: str = pydantic.Field(description=\"Title of chapter 1 of the story.\")\n",
    "        ch1_description: str = pydantic.Field(description=\"Longer description of chapter 1.\")\n",
    "\n",
    "        ch2_title: str = pydantic.Field(description=\"Title of chapter 2 of the story.\")\n",
    "        ch2_description: str = pydantic.Field(description=\"Longer description of chapter 2.\")\n",
    "\n",
    "        ch3_title: str = pydantic.Field(description=\"Title of chapter 3 of the story.\")\n",
    "        ch3_description: str = pydantic.Field(description=\"Longer description of chapter 3.\")\n",
    "\n",
    "        def as_str(self) -> str:\n",
    "            return f'title: {self.title}\\n\\ntopic: {self.story_topic}\\n\\nnarrative: {self.narrative_arc}\\n\\n(ch. 1) {self.ch1_title}: {self.ch1_description}\\n\\n(ch. 2) {self.ch2_title}: {self.ch2_description}\\n\\n(ch. 3) {self.ch3_title}: {self.ch3_description}'\n",
    "\n",
    "\n",
    "    system_prompt = \"\"\"\n",
    "    You are designed to produce an outline of the story given some basic information from the user. \n",
    "    The outline includes a title, story topic, and narrative arc, as well as titles and descriptions \n",
    "    of three chapters. You are to take creative liberties in generating the outline. Each chapter should\n",
    "    have its own narrative arc that contributes to the overall story arc. The plot should show character \n",
    "    growth and reflect very Progressive American values.\n",
    "    \"\"\"\n",
    "\n",
    "    outline_structbot = chatbot.structbot_from_model(output_structure=StoryOutline, system_prompt=system_prompt)\n",
    "\n",
    "    @langchain_core.tools.tool\n",
    "    def story_outline_tool(description_of_story: str) -> StoryOutline:\n",
    "        '''Create an outline of a story given a description of the story.'''\n",
    "        return outline_structbot.invoke(description_of_story)\n",
    "\n",
    "    return [story_outline_tool]"
   ]
  },
  {
   "cell_type": "code",
   "execution_count": 3,
   "metadata": {},
   "outputs": [
    {
     "data": {
      "text/plain": [
       "ToolCallInfo(id='call_riWwQuVHvN8z7D7QokPdrOUy', name='story_outline_tool', type='tool_call', args={'description_of_story': 'The story follows two friends, Alex and Jamie, who have been inseparable since childhood. They share a unique bond, filled with laughter, adventure, and a little bit of mischief. The plot revolves around a series of fun-filled days where they explore their town, embark on spontaneous adventures, and engage in playful competitions. Each chapter highlights a different escapade, from a treasure hunt in the local park to a cooking challenge at home, showcasing their friendship and the joy of living in the moment. As the story unfolds, they face a small conflict that tests their friendship, but ultimately, they learn the importance of communication and support, solidifying their bond even further. The story ends with a grand adventure that solidifies their friendship and leaves them with unforgettable memories.'}, tool=StructuredTool(name='story_outline_tool', description='Create an outline of a story given a description of the story.', args_schema=<class 'langchain_core.utils.pydantic.story_outline_tool'>, func=<function example_tool_factory.<locals>.story_outline_tool at 0x12957e700>))"
      ]
     },
     "execution_count": 3,
     "metadata": {},
     "output_type": "execute_result"
    }
   ],
   "source": [
    "keychain = simplechatbot.APIKeyChain.from_json_file('../keys.json')\n",
    "\n",
    "system_prompt = \"\"\"\n",
    "You are a regular chatbot with the capability to generate a story outline if the user requests.\n",
    "ONLY do this if the user requests though.\n",
    "\"\"\"\n",
    "\n",
    "chatbot = OpenAIChatBot.new(\n",
    "    model_name = 'gpt-4o-mini', \n",
    "    api_key=keychain['openai'],\n",
    "    system_prompt=system_prompt,\n",
    "    tool_factories=[example_tool_factory],\n",
    ")\n",
    "\n",
    "stream = chatbot.chat_stream(f'Create an outline for a story about two friends that have a lot of fun together.')\n",
    "result = stream.print_and_collect()\n",
    "result.tool_calls[0]"
   ]
  },
  {
   "cell_type": "code",
   "execution_count": 4,
   "metadata": {},
   "outputs": [
    {
     "name": "stdout",
     "output_type": "stream",
     "text": [
      "title: Unbreakable Bonds\n",
      "\n",
      "topic: A celebration of friendship and adventure between two inseparable friends, Alex and Jamie.\n",
      "\n",
      "narrative: Two friends navigate the joys and challenges of their unique bond through a series of fun-filled escapades, ultimately learning the value of communication and support, leading to a grand adventure that cements their friendship.\n",
      "\n",
      "(ch. 1) The Treasure Hunt: Alex and Jamie discover an old map in the attic that leads to a treasure hidden in their local park. Excited by the adventure, they gather supplies and set off on a quest filled with clues, laughter, and unexpected challenges. As they navigate through the park, they reminisce about their childhood memories and deepen their bond, only to face a moment of disagreement about how to interpret the map, testing their communication skills.\n",
      "\n",
      "(ch. 2) The Cooking Challenge: Inspired by their treasure hunt, Alex and Jamie decide to host a cooking challenge at home. They split into teams and compete to create the best dish, showcasing their culinary skills and creativity. The friendly competition is filled with humor, mishaps, and lots of delicious food. However, when Jamie feels overshadowed by Alex's confidence in the kitchen, they have a heart-to-heart conversation that highlights the importance of supporting each other, reinforcing their friendship.\n",
      "\n",
      "(ch. 3) The Grand Adventure: To celebrate their strengthened bond, Alex and Jamie plan a grand adventure to a nearby festival. They face challenges along the way, including navigating transportation mishaps and unexpected weather. However, their teamwork and open communication help them overcome these obstacles, leading to a day filled with joy, laughter, and unforgettable memories. The story concludes with a heartfelt moment as they reflect on their journey, realizing that their friendship is the greatest treasure of all.\n"
     ]
    }
   ],
   "source": [
    "outline = result.execute_tools()['story_outline_tool'].return_value\n",
    "print(outline.as_str())"
   ]
  }
 ],
 "metadata": {
  "kernelspec": {
   "display_name": "base",
   "language": "python",
   "name": "python3"
  },
  "language_info": {
   "codemirror_mode": {
    "name": "ipython",
    "version": 3
   },
   "file_extension": ".py",
   "mimetype": "text/x-python",
   "name": "python",
   "nbconvert_exporter": "python",
   "pygments_lexer": "ipython3",
   "version": "3.12.4"
  }
 },
 "nbformat": 4,
 "nbformat_minor": 2
}
