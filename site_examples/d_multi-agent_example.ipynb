{
 "cells": [
  {
   "cell_type": "markdown",
   "metadata": {},
   "source": [
    "# Multi-agent Examples\n",
    "\n",
    "In this example I show an example of an agent that writes a story using a series of steps.\n",
    "\n",
    "1. The user provides an idea for their story.\n",
    "2. The `Outline Bot` generates an outline for the story including section titles and descriptions.\n",
    "3. The first section content is created by the `Story Bot` from section title/description and the overall story description.\n",
    "4. The `Summary Bot` creates a summary of the newly generated chapter.\n",
    "5. The section summary is passed to the `Story Bot` along with section title/description to generate the next section.\n",
    "6. All sections follow steps 3-5.\n",
    "...\n",
    "7. The sections are combined into a full story.\n",
    "\n",
    "![Story bot design diagram](https://storage.googleapis.com/public_data_09324832787/story_bot_design.svg)"
   ]
  },
  {
   "cell_type": "code",
   "execution_count": 1,
   "metadata": {},
   "outputs": [],
   "source": [
    "import sys\n",
    "sys.path.append('../src/')\n",
    "\n",
    "import simplechatbot\n",
    "from simplechatbot.openai_chatbot import OpenAIChatBot"
   ]
  },
  {
   "cell_type": "markdown",
   "metadata": {},
   "source": [
    "First I create a new chatbot from OpenAI using the API stored in the keychain file.\n",
    "\n",
    "I also create a new function `stream_it` that prints the result from the LLM as it is received and returns the full result of the LLM call."
   ]
  },
  {
   "cell_type": "code",
   "execution_count": 2,
   "metadata": {},
   "outputs": [],
   "source": [
    "keychain = simplechatbot.APIKeyChain.from_json_file('../keys.json')\n",
    "base_chatbot = OpenAIChatBot.new(\n",
    "    model_name = 'gpt-4o-mini', \n",
    "    api_key=keychain['openai'],\n",
    ")\n",
    "\n",
    "def stream_it(chatbot: simplechatbot.ChatBot, msg: str | None = None) -> simplechatbot.ChatResult:\n",
    "    stream = chatbot.stream(msg, add_to_history=False)\n",
    "    for chunk in stream:\n",
    "        print(chunk.content, end='', flush=True)\n",
    "    return stream.collect()"
   ]
  },
  {
   "cell_type": "markdown",
   "metadata": {},
   "source": [
    "Next we need to direct the LLM to create an outline for the story. I do this by creating a system prompt describing the task of creating an outline and a pydantic class to direct the LLM on how to structure its response. This is important because the output of the outline bot will be used for generating chapters."
   ]
  },
  {
   "cell_type": "code",
   "execution_count": 3,
   "metadata": {},
   "outputs": [
    {
     "name": "stdout",
     "output_type": "stream",
     "text": [
      "topic: Reunion of Childhood Friends\n",
      "\n",
      "A Chance Encounter: The story begins in a small town during the summer of their childhood. We are introduced to two friends, Zoe and Ethan, who share a bond over their love for adventures and imagination. After a summer filled with memorable experiences like climbing trees, building forts, and exploring the nearby woods, they promise to stay best friends forever. However, as the years go by, Zoe's family moves to another city, and they lose touch, each leading divergent lives. This part sets up their childhood memories and the dynamic of their friendship.\n",
      "\n",
      "Years Apart: In this section, we explore Zoe and Ethan's lives as they grow up without each other. Zoe becomes an aspiring artist in a bustling city, struggling with her identity and artistic ambitions, while Ethan finds his way into a corporate job in their hometown. We see the impact of their separation as both friends face personal challenges, relationships, and the bittersweet nostalgia for their childhood. They occasionally think about each other, reminiscing their carefree days, but never take the initiative to reconnect.\n",
      "\n",
      "Rebuilding Bridges: The climax occurs when Zoe returns to her hometown for a gallery exhibition showcasing her artwork, which is inspired by her childhood. Serendipitously, Ethan learns about the event and decides to attend, having heard through mutual acquaintances. The reunion is awkward at first as they navigate the changes in their lives, relationships, and emotional baggage. Through heartfelt conversations and shared memories, they begin to understand who they have become as adults. They confront their feelings about their past friendship and what it means to be in each other's lives again. The story concludes with them deciding to take the next step in their relationship, whether as friends or something deeper.\n"
     ]
    }
   ],
   "source": [
    "import pydantic\n",
    "\n",
    "from typing import Optional\n",
    "\n",
    "#from pydantic import BaseModel, Field\n",
    "import pydantic\n",
    "\n",
    "class StoryOutline(pydantic.BaseModel):\n",
    "    \"\"\"Outline of the story.\"\"\"\n",
    "\n",
    "    story_topic: str = pydantic.Field(description=\"The topic of the story.\")\n",
    "\n",
    "    part1_title: str = pydantic.Field(description=\"Title of Part 1 of the story.\")\n",
    "    part1_description: str = pydantic.Field(description=\"Longer description of part 1.\")\n",
    "\n",
    "    part2_title: str = pydantic.Field(description=\"Title of Part 2 of the story.\")\n",
    "    part2_description: str = pydantic.Field(description=\"Longer description of part 2.\")\n",
    "\n",
    "    part3_title: str = pydantic.Field(description=\"Title of Part 3 of the story.\")\n",
    "    part3_description: str = pydantic.Field(description=\"Longer description of part 3.\")\n",
    "\n",
    "    def outline_str(self) -> str:\n",
    "        return f'topic: {self.story_topic}\\n\\n{self.part1_title}: {self.part1_description}\\n\\n{self.part2_title}: {self.part2_description}\\n\\n{self.part3_title}: {self.part3_description}'\n",
    "\n",
    "\n",
    "system_prompt = '''\n",
    "The user will provide you a description of a story, and you must create a chapter outline with titles and brief descriptions.\n",
    "Each section should contain a title and a brief description of what happens in that section.\n",
    "The sections should all be part of a single narrative ark, but each section should have a complete beginning, middle, and end.\n",
    "'''\n",
    "outline_bot = base_chatbot.structbot_from_model(\n",
    "    output_structure=StoryOutline,\n",
    "    system_prompt=system_prompt,\n",
    ")\n",
    "\n",
    "q = f'Write an outline for a story about two friends who met when they were young and then lost touch. They meet again as adults and have to navigate their new relationship.'\n",
    "outline: StoryOutline = outline_bot._model.with_structured_output(StoryOutline).invoke(q)\n",
    "print(outline.outline_str())"
   ]
  },
  {
   "cell_type": "markdown",
   "metadata": {},
   "source": [
    "Next we create a bot that will generate the actual chapter content based on information generated in the outline and a summary of the previous chapter (if one exists)."
   ]
  },
  {
   "cell_type": "code",
   "execution_count": 4,
   "metadata": {},
   "outputs": [],
   "source": [
    "chapter_bot_system_prompt = f'''\n",
    "You are designed to write a single chapter of a larger story based on the following information:\n",
    "\n",
    "+ Overall story topic: The topic of the full story.\n",
    "+ Chapter title: The title of the section you are writing.\n",
    "+ Chapter description: A longer description of what happens in the section.\n",
    "+ (optional) previous chapter summary: A summary of the previous chapter.\n",
    "\n",
    "Your responses should only include text that is part of the story. Do not include the chapter title \n",
    "or any other information that is not part of the story itself.\n",
    "'''\n",
    "\n",
    "def chapter_bot_prompt(\n",
    "    story_topic: str,\n",
    "    chapter_title: str,\n",
    "    chapter_description: str,\n",
    "    previous_chapter_summary: Optional[str] = None,\n",
    ") -> str:\n",
    "    return f'''\n",
    "    General story topic: \"{story_topic}\"\n",
    "\n",
    "    Section title: \"{chapter_title}\"\n",
    "\n",
    "    Description: \"{chapter_description}\"\n",
    "\n",
    "    Previous chapter summary: \"{previous_chapter_summary if previous_chapter_summary is not None else 'No previous chapter - this is the first!'}\"\n",
    "    '''\n",
    "\n",
    "chapter_bot = base_chatbot.empty().clone(\n",
    "    system_prompt=chapter_bot_system_prompt,\n",
    ")"
   ]
  },
  {
   "cell_type": "markdown",
   "metadata": {},
   "source": [
    "Now we actually create the chatper using the prompt."
   ]
  },
  {
   "cell_type": "code",
   "execution_count": 5,
   "metadata": {},
   "outputs": [
    {
     "name": "stdout",
     "output_type": "stream",
     "text": [
      "The soft hum of summer crickets filled the air as the sun dipped low on the horizon, painting the sky in shades of orange and pink. Zoe and Ethan lay sprawled on the warm grass of their secret spot—a sun-drenched clearing deep in the woods behind their houses. A few stray sunbeams filtered through the branches overhead, illuminating their faces in a gentle glow as they shared stories of grand adventures and the legends of strange creatures that roamed the forest.\n",
      "\n",
      "“Maybe the old tree is a doorway to another world,” Zoe suggested, her brown eyes sparkling with imagination as she pointed to the gnarled oak that stood like a sentinel at the edge of the clearing. “We could be the first explorers to find out what’s on the other side!”\n",
      "\n",
      "Ethan laughed, adjusting his position to look at her. “And discover treasure? Or dinosaurs? Come on, Zoe! We need to build a team!” His excitement was palpable, and as he spoke, he gestured dramatically, portraying the valiant explorer he aspired to be.\n",
      "\n",
      "As the warmth of their laughter rose around them, they turned their heads skywards, making shapes from the few wispy clouds drifting by. The world felt vast and inviting, and the thought of growing up was far from their minds. They had made a pact earlier that summer, hands pressed tightly together as they whispered the words “best friends forever.”\n",
      "\n",
      "Days melted into weeks of laughter, adventures, and endless creativity. They turned the old fort in Zoe’s backyard into a pirate ship, imagined themselves as space adventurers soaring through the galaxies, and explored every inch of the woods, pretending they were on a quest for lost treasures. Each day was woven with threads of joy and imagination, completing what they believed was the perfect summer.\n",
      "\n",
      "However, the sun set on their childhood alliance sooner than they could have imagined. Just as the last golden rays of sun slipped behind the treetops, Zoe's family sat her down one evening in their cozy kitchen. Her mother sat opposite her, concern knitting her brow as she delivered the news—Zoe would be moving to another city. “It’s for your father’s job, sweetheart. I know it’s sudden, but we’re all going to make new friends and new memories,” her mother said gently.\n",
      "\n",
      "Zoe felt as if the air had been sucked out of the room, her heart sinking like a stone. “But Ethan… he’s my best friend!” She protested, her small voice trembling. Her parents exchanged sympathetic glances, but as realities crept in, the magic of friendship felt just out of reach.\n",
      "\n",
      "The days that followed were a flurry of packing and goodbyes. Zoe and Ethan tried to grasp the gravity of their situation through tear-filled eyes, promising to write, call, and never forget their adventures together. But as summer shifted into fall, the letters became fewer, the calls dwindled, and before long, memories of their extraordinary summer faded into sepia tones—that warm nostalgia dulled by the passage of time.\n",
      "\n",
      "Years slithered by, and life swept both of them onto different paths—Ethan threw himself into school and sports, while Zoe navigated the struggles of adjusting to a new city, always carrying a small piece of that warm summer in her heart. The bond began to blur, a gentle whisper of childhood replaced with the chaos of teenage years.\n",
      "\n",
      "However, the threads of fate were not as tangled as they seemed. With each passing season, life stirred in ways neither expected. It would be a simple chance encounter, a crossroads where nostalgia and adulthood collided, that would eventually lead them back to one another, proving that some friendships can never truly fade. \n",
      "\n",
      "The echoes of laughter, of promises made under the summer sun, lingered in the air, waiting for a moment to weave their stories together once more."
     ]
    }
   ],
   "source": [
    "cb1 = base_chatbot.empty().clone(\n",
    "    system_prompt=system_prompt,\n",
    ")\n",
    "prompt = chapter_bot_prompt(outline.story_topic, outline.part1_title, outline.part1_description)\n",
    "chapter1 = stream_it(chapter_bot, prompt)"
   ]
  },
  {
   "cell_type": "markdown",
   "metadata": {},
   "source": [
    "Next I create a bot that will summarize a chapter. We will eventually feed this into the creation of chapter 2."
   ]
  },
  {
   "cell_type": "code",
   "execution_count": 6,
   "metadata": {},
   "outputs": [
    {
     "name": "stdout",
     "output_type": "stream",
     "text": [
      "In this chapter, the story follows two childhood friends, Zoe and Ethan, who share a carefree summer filled with imaginative adventures in a secret clearing in the woods. The chapter begins with them enjoying the beauty of the summer evening, dreaming of exploring an old tree they believe might be a doorway to another world. Their playful fantasies lead them to create a bond defined by their pact of \"best friends forever.\"\n",
      "\n",
      "As summer progresses, the joy of their friendship unfolds through various escapades, transforming Zoe's old fort into a pirate ship and pretending to be space adventurers. However, the idyllic summer comes to an abrupt end when Zoe's parents announce her family's move to a different city due to her father's job. Heartbroken, Zoe struggles with the news and fears losing her best friend Ethan. Despite trying to stay connected through promises of letters and calls, their communication dwindles over time as they grow apart.\n",
      "\n",
      "As years pass, Ethan immerses himself in school and sports, while Zoe adjusts to her new life, carrying the memories of their summer with her. The chapter emphasizes how life leads them down separate paths, but hints that fate may still conspire to bring them back together, as true friendships often endure despite the passage of time. The chapter closes with a promise of future reunification, suggesting that their shared laughter and memories will eventually intertwine their lives once more."
     ]
    }
   ],
   "source": [
    "summary_bot_system_prompt = f'''\n",
    "You need to create a summary of the story chapter provided to you by the user.\n",
    "The summary should include names of relevant characters and capture the story arc of the chapter.\n",
    "'''\n",
    "summary_bot = base_chatbot.empty().clone(\n",
    "    system_prompt=summary_bot_system_prompt,\n",
    ")\n",
    "ch1_summary = stream_it(summary_bot, f'Chapter text:\\n\\n{chapter1.content}')"
   ]
  },
  {
   "cell_type": "markdown",
   "metadata": {},
   "source": [
    "Now we actually generate the second chapter using the outline and the previous chapter summary."
   ]
  },
  {
   "cell_type": "code",
   "execution_count": 7,
   "metadata": {},
   "outputs": [
    {
     "name": "stdout",
     "output_type": "stream",
     "text": [
      "The city lights sparkled like distant stars as Zoe stood at her window, paint-splattered fingers brushing against the cool glass. The vibrant chaos of urban life pulsed outside, a stark contrast to the quiet solitude that wrapped around her heart. It had been years since she left her childhood home, years since she’d shared laughter with Ethan beneath the thick canopy of trees they once claimed as their own. Now, she spent her days inhaling the scents of oil paint and turpentine, pouring her tangled emotions onto canvases that whispered stories of longing and nostalgia.\n",
      "\n",
      "Zoe’s small studio apartment was a swirling mix of colors, much like her thoughts. The vibrant reds and soothing blues portrayed the turbulence within her: the ambition to succeed as an artist, the fear of failure, and the unsettling impression that she had lost a piece of herself the moment she had stepped onto a different path. Each brush stroke was a testament to her struggles, yet even in her success, there lingered a void shaped like Ethan—his laughter, his unwavering belief that dreams were within reach.\n",
      "\n",
      "In the quiet evenings, when the city slowed to a soft hum, she often recalled the warmth of his smile and the way he had always guided her through clouds of uncertainty. It felt as though time had played a cruel trick, allowing them to spiral down separate trajectories that intersected only in fleeting memories. Despite her achievements, a flicker of solitude accompanied Zoe, a bittersweet reminder of the friendship she had once woven into the fabric of her life.\n",
      "\n",
      "Meanwhile, in their small hometown, Ethan navigated the sterile confines of a corporate office, his days overshadowed by deadlines and spreadsheets. He had carved out a life that, on the surface, seemed fulfilling. The suits he wore were smart, his colleagues were amiable, and yet, beneath the veil of professionalism, Ethan grappled with an unshakeable sensation that something significant was missing. The once carefree days spent exploring forgotten trails with Zoe clung to his mind like a favorite song, replaying in his thoughts during coffee breaks and late nights spent staring at financial reports.\n",
      "\n",
      "Ethan often found himself daydreaming, imagining the vibrant artist Zoe must have become, and he couldn’t help but feel proud of her. He remembered the way her eyes sparkled with passion, how they saw the world as a canvas waiting to be painted. But pride turned into something heavier: an ache of longing, a desire to reach out and bridge the years that had stretched between them like a vast ocean. Yet, just as he thought of sending a quick message, the fear of rejection swept over him, and he would bury those thoughts beneath another daily task.\n",
      "\n",
      "Occasionally, as he walked past the old ice cream parlor where they had shared their first cones of summer, Ethan found himself pausing, caught in the clutches of nostalgia. The joyous laughter of children echoed in the distance, only to dissolve into silence as he remembered the vibrant laughter of his best friend. Even at family gatherings, when tales of “what could have been” lingered in his mind like a whisper, he found it difficult to vocalize the ghosts of his past.\n",
      "\n",
      "As both Zoe and Ethan confronted the challenges of adulthood, neither could shake the feeling that their once vibrant friendship had left an indelible mark on their souls. They were connected by an invisible thread—no matter how far apart life had taken them. Their hearts still pulsed with the memories of that summer: the secret tree, the adventures and dreams, the pact of forever, and in the depths of their subconscious, the realization that perhaps someday, they would once again find their way back to one another. But for now, they continued to navigate their separate worlds, each carrying the bittersweet echoes of childhood friendship alongside their burdens of adulthood, always just a thought away from the other."
     ]
    }
   ],
   "source": [
    "prompt = chapter_bot_prompt(\n",
    "    outline.story_topic,\n",
    "    outline.part2_title,\n",
    "    outline.part2_description,\n",
    "    ch1_summary.content,\n",
    ")\n",
    "chapter2 = stream_it(chapter_bot, prompt)"
   ]
  },
  {
   "cell_type": "markdown",
   "metadata": {},
   "source": [
    "Create a summary for chapter 2 now."
   ]
  },
  {
   "cell_type": "code",
   "execution_count": 8,
   "metadata": {},
   "outputs": [
    {
     "name": "stdout",
     "output_type": "stream",
     "text": [
      "In this chapter, Zoe and Ethan, best friends, share joyful summer days in a secret clearing in the woods, filled with imagination and adventurous dreams. They fantasize about exploring a mysterious old tree, suggesting it could be a gateway to another world. Their bond is strong, solidified by a pledge to be \"best friends forever.\" \n",
      "\n",
      "However, the idyllic summer comes to an abrupt end when Zoe's mother announces that the family will be moving to a different city due to her father's job. The news devastates Zoe, who struggles to comprehend life without her best friend. As they prepare for her departure, tears are shed and promises are made to stay in touch, but the harsh reality of growing up soon dulls their connection. \n",
      "\n",
      "As time passes, both Zoe and Ethan lead separate lives, with Ethan focusing on school and sports, while Zoe adjusts to her new surroundings. The intensity of their childhood friendship begins to fade as nostalgia takes over. Yet, the story hints at the possibility of rekindling their bond through a future chance encounter, suggesting that their friendship, though changed, can never truly vanish. The chapter closes with a sense of hope that their shared memories will bring them back together, underlining the enduring strength of true friendship."
     ]
    }
   ],
   "source": [
    "ch2_summary = stream_it(summary_bot, f'Previous chapter text:\\n\\n{chapter1.content}')"
   ]
  },
  {
   "cell_type": "markdown",
   "metadata": {},
   "source": [
    "Use the summary of chapter 2 and outline information to create chapter 3."
   ]
  },
  {
   "cell_type": "code",
   "execution_count": 9,
   "metadata": {},
   "outputs": [
    {
     "name": "stdout",
     "output_type": "stream",
     "text": [
      "In the heart of Manhattan, the city buzzed with life outside Zoe’s tiny apartment. The cacophony of honking horns, distant sirens, and the chatter of pedestrians filled her days, yet within her, there was an emptiness as vast as the skyline. The walls were adorned with her artwork, sprawling canvases bursting with colors that reflected her emotions: bold strokes of crimson for her frustrations, soft blues for her hopes, and shadowy grays for moments of despair. Each piece told a story, but none shared the half of her internal struggle. \n",
      "\n",
      "Zoe glanced at her easel, where a blank canvas awaited her next stroke. Her mind was cluttered with thoughts of what could have been. She often drifted back to the sun-drenched days in the woods with Ethan, their laughter echoing among the trees as they conjured up worlds beyond their own. Even now, years later, she could feel the tug of their friendship, a bittersweet melody playing in the back of her mind. \n",
      "\n",
      "“Hey, Zoe! You coming to the gallery opening tonight?” called Melissa, her classmate from art school, as she flitted past with a stack of flyers. \n",
      "\n",
      "“Maybe,” Zoe defended, her voice trailing off. Her imagination took over, and for a fleeting moment, she wondered if Ethan was still in town, if he was looking for her, too. But reality quickly settled in, extinguishing that spark of hope. In a city of millions, where paths swayed like a river’s current, it felt unlikely they would ever cross again.\n",
      "\n",
      "Meanwhile, back in their hometown, Ethan sat at his desk in a cubicle surrounded by the familiar hum of office life. Barely able to sit still, he fidgeted with the pen in his hand, imagining Zoe’s artwork hanging on the walls instead of the dull corporate posters plastered around him. The job had promise, a steady paycheck, but it felt hollow without the thrill of creativity Zoe had always inspired in him. As he sorted through spreadsheets and emails, a part of him yearned for the freedom he once felt—a life where the only gauge of success was the joy of running through the trees, hand in hand with his best friend.\n",
      "\n",
      "His phone buzzed with notifications—happy memories from their shared past creeping back into his thoughts. He flipped through pictures of them at the creek, and it struck him hard, the vibrant innocence of their connection. What would Zoe think of him now? Would she still see the boy with wild dreams, or only the man in a suit, buried beneath layers of responsibility? Every so often, a fleeting thought nudged him to reach out, to try and bridge the vast gulf of time, but fear pulled him back—what if she had moved on? What if their childhood had been nothing but fleeting whimsy?\n",
      "\n",
      "Days turned into weeks, and when one particularly rainy evening left him staring at the phone, heart pounding with unspent words, he closed his eyes and imagined her voice. He could almost hear her teasing laugh intertwined with the sound of raindrops tapping against the window. Underneath the weight of adulthood, nostalgia was an anchor, pulling him back to those sunlight-infused afternoons. \n",
      "\n",
      "At that moment, a storm raged within both of them—a longing for connection, yet shadows of self-doubt reigned. Zoe wiped her paint-stained hands on a cloth, her heart aching to share her latest work with someone who understood. Ethan leaned back in his chair, knowing he should pick up the phone and call, let her know he still thought about her. But instead, they both sat in silence, unaware that time continued its relentless march forward. \n",
      "\n",
      "Their paths remained unwoven, each heartbeat a promise of longing but also of hesitation. It was as though the universe had conspired to keep them apart, each holding on to fragments of laughter and dreams, waiting for something—a sign, a moment—to bring them together once more."
     ]
    }
   ],
   "source": [
    "prompt = chapter_bot_prompt(\n",
    "    outline.story_topic,\n",
    "    outline.part2_title,\n",
    "    outline.part2_description,\n",
    "    ch2_summary.content,\n",
    ")\n",
    "chapter3 = stream_it(chapter_bot, prompt)"
   ]
  },
  {
   "cell_type": "markdown",
   "metadata": {},
   "source": [
    "And now we can review the full text of the book."
   ]
  },
  {
   "cell_type": "code",
   "execution_count": 10,
   "metadata": {},
   "outputs": [
    {
     "name": "stdout",
     "output_type": "stream",
     "text": [
      "('\\n'\n",
      " '\\n'\n",
      " 'Overview: Reunion of Childhood Friends\\n'\n",
      " '\\n'\n",
      " '== Chapter 1: A Chance Encounter ==\\n'\n",
      " '\\n'\n",
      " 'The soft hum of summer crickets filled the air as the sun dipped low on the '\n",
      " 'horizon, painting the sky in shades of orange and pink. Zoe and Ethan lay '\n",
      " 'sprawled on the warm grass of their secret spot—a sun-drenched clearing deep '\n",
      " 'in the woods behind their houses. A few stray sunbeams filtered through the '\n",
      " 'branches overhead, illuminating their faces in a gentle glow as they shared '\n",
      " 'stories of grand adventures and the legends of strange creatures that roamed '\n",
      " 'the forest.\\n'\n",
      " '\\n'\n",
      " '“Maybe the old tree is a doorway to another world,” Zoe suggested, her brown '\n",
      " 'eyes sparkling with imagination as she pointed to the gnarled oak that stood '\n",
      " 'like a sentinel at the edge of the clearing. “We could be the first '\n",
      " 'explorers to find out what’s on the other side!”\\n'\n",
      " '\\n'\n",
      " 'Ethan laughed, adjusting his position to look at her. “And discover '\n",
      " 'treasure? Or dinosaurs? Come on, Zoe! We need to build a team!” His '\n",
      " 'excitement was palpable, and as he spoke, he gestured dramatically, '\n",
      " 'portraying the valiant explorer he aspired to be.\\n'\n",
      " '\\n'\n",
      " 'As the warmth of their laughter rose around them, they turned their heads '\n",
      " 'skywards, making shapes from the few wispy clouds drifting by. The world '\n",
      " 'felt vast and inviting, and the thought of growing up was far from their '\n",
      " 'minds. They had made a pact earlier that summer, hands pressed tightly '\n",
      " 'together as they whispered the words “best friends forever.”\\n'\n",
      " '\\n'\n",
      " 'Days melted into weeks of laughter, adventures, and endless creativity. They '\n",
      " 'turned the old fort in Zoe’s backyard into a pirate ship, imagined '\n",
      " 'themselves as space adventurers soaring through the galaxies, and explored '\n",
      " 'every inch of the woods, pretending they were on a quest for lost treasures. '\n",
      " 'Each day was woven with threads of joy and imagination, completing what they '\n",
      " 'believed was the perfect summer.\\n'\n",
      " '\\n'\n",
      " 'However, the sun set on their childhood alliance sooner than they could have '\n",
      " 'imagined. Just as the last golden rays of sun slipped behind the treetops, '\n",
      " \"Zoe's family sat her down one evening in their cozy kitchen. Her mother sat \"\n",
      " 'opposite her, concern knitting her brow as she delivered the news—Zoe would '\n",
      " 'be moving to another city. “It’s for your father’s job, sweetheart. I know '\n",
      " 'it’s sudden, but we’re all going to make new friends and new memories,” her '\n",
      " 'mother said gently.\\n'\n",
      " '\\n'\n",
      " 'Zoe felt as if the air had been sucked out of the room, her heart sinking '\n",
      " 'like a stone. “But Ethan… he’s my best friend!” She protested, her small '\n",
      " 'voice trembling. Her parents exchanged sympathetic glances, but as realities '\n",
      " 'crept in, the magic of friendship felt just out of reach.\\n'\n",
      " '\\n'\n",
      " 'The days that followed were a flurry of packing and goodbyes. Zoe and Ethan '\n",
      " 'tried to grasp the gravity of their situation through tear-filled eyes, '\n",
      " 'promising to write, call, and never forget their adventures together. But as '\n",
      " 'summer shifted into fall, the letters became fewer, the calls dwindled, and '\n",
      " 'before long, memories of their extraordinary summer faded into sepia '\n",
      " 'tones—that warm nostalgia dulled by the passage of time.\\n'\n",
      " '\\n'\n",
      " 'Years slithered by, and life swept both of them onto different paths—Ethan '\n",
      " 'threw himself into school and sports, while Zoe navigated the struggles of '\n",
      " 'adjusting to a new city, always carrying a small piece of that warm summer '\n",
      " 'in her heart. The bond began to blur, a gentle whisper of childhood replaced '\n",
      " 'with the chaos of teenage years.\\n'\n",
      " '\\n'\n",
      " 'However, the threads of fate were not as tangled as they seemed. With each '\n",
      " 'passing season, life stirred in ways neither expected. It would be a simple '\n",
      " 'chance encounter, a crossroads where nostalgia and adulthood collided, that '\n",
      " 'would eventually lead them back to one another, proving that some '\n",
      " 'friendships can never truly fade. \\n'\n",
      " '\\n'\n",
      " 'The echoes of laughter, of promises made under the summer sun, lingered in '\n",
      " 'the air, waiting for a moment to weave their stories together once more.\\n'\n",
      " '\\n'\n",
      " '\\n'\n",
      " '== Chapter 2: Years Apart ==\\n'\n",
      " '\\n'\n",
      " 'The city lights sparkled like distant stars as Zoe stood at her window, '\n",
      " 'paint-splattered fingers brushing against the cool glass. The vibrant chaos '\n",
      " 'of urban life pulsed outside, a stark contrast to the quiet solitude that '\n",
      " 'wrapped around her heart. It had been years since she left her childhood '\n",
      " 'home, years since she’d shared laughter with Ethan beneath the thick canopy '\n",
      " 'of trees they once claimed as their own. Now, she spent her days inhaling '\n",
      " 'the scents of oil paint and turpentine, pouring her tangled emotions onto '\n",
      " 'canvases that whispered stories of longing and nostalgia.\\n'\n",
      " '\\n'\n",
      " 'Zoe’s small studio apartment was a swirling mix of colors, much like her '\n",
      " 'thoughts. The vibrant reds and soothing blues portrayed the turbulence '\n",
      " 'within her: the ambition to succeed as an artist, the fear of failure, and '\n",
      " 'the unsettling impression that she had lost a piece of herself the moment '\n",
      " 'she had stepped onto a different path. Each brush stroke was a testament to '\n",
      " 'her struggles, yet even in her success, there lingered a void shaped like '\n",
      " 'Ethan—his laughter, his unwavering belief that dreams were within reach.\\n'\n",
      " '\\n'\n",
      " 'In the quiet evenings, when the city slowed to a soft hum, she often '\n",
      " 'recalled the warmth of his smile and the way he had always guided her '\n",
      " 'through clouds of uncertainty. It felt as though time had played a cruel '\n",
      " 'trick, allowing them to spiral down separate trajectories that intersected '\n",
      " 'only in fleeting memories. Despite her achievements, a flicker of solitude '\n",
      " 'accompanied Zoe, a bittersweet reminder of the friendship she had once woven '\n",
      " 'into the fabric of her life.\\n'\n",
      " '\\n'\n",
      " 'Meanwhile, in their small hometown, Ethan navigated the sterile confines of '\n",
      " 'a corporate office, his days overshadowed by deadlines and spreadsheets. He '\n",
      " 'had carved out a life that, on the surface, seemed fulfilling. The suits he '\n",
      " 'wore were smart, his colleagues were amiable, and yet, beneath the veil of '\n",
      " 'professionalism, Ethan grappled with an unshakeable sensation that something '\n",
      " 'significant was missing. The once carefree days spent exploring forgotten '\n",
      " 'trails with Zoe clung to his mind like a favorite song, replaying in his '\n",
      " 'thoughts during coffee breaks and late nights spent staring at financial '\n",
      " 'reports.\\n'\n",
      " '\\n'\n",
      " 'Ethan often found himself daydreaming, imagining the vibrant artist Zoe must '\n",
      " 'have become, and he couldn’t help but feel proud of her. He remembered the '\n",
      " 'way her eyes sparkled with passion, how they saw the world as a canvas '\n",
      " 'waiting to be painted. But pride turned into something heavier: an ache of '\n",
      " 'longing, a desire to reach out and bridge the years that had stretched '\n",
      " 'between them like a vast ocean. Yet, just as he thought of sending a quick '\n",
      " 'message, the fear of rejection swept over him, and he would bury those '\n",
      " 'thoughts beneath another daily task.\\n'\n",
      " '\\n'\n",
      " 'Occasionally, as he walked past the old ice cream parlor where they had '\n",
      " 'shared their first cones of summer, Ethan found himself pausing, caught in '\n",
      " 'the clutches of nostalgia. The joyous laughter of children echoed in the '\n",
      " 'distance, only to dissolve into silence as he remembered the vibrant '\n",
      " 'laughter of his best friend. Even at family gatherings, when tales of “what '\n",
      " 'could have been” lingered in his mind like a whisper, he found it difficult '\n",
      " 'to vocalize the ghosts of his past.\\n'\n",
      " '\\n'\n",
      " 'As both Zoe and Ethan confronted the challenges of adulthood, neither could '\n",
      " 'shake the feeling that their once vibrant friendship had left an indelible '\n",
      " 'mark on their souls. They were connected by an invisible thread—no matter '\n",
      " 'how far apart life had taken them. Their hearts still pulsed with the '\n",
      " 'memories of that summer: the secret tree, the adventures and dreams, the '\n",
      " 'pact of forever, and in the depths of their subconscious, the realization '\n",
      " 'that perhaps someday, they would once again find their way back to one '\n",
      " 'another. But for now, they continued to navigate their separate worlds, each '\n",
      " 'carrying the bittersweet echoes of childhood friendship alongside their '\n",
      " 'burdens of adulthood, always just a thought away from the other.\\n'\n",
      " '\\n'\n",
      " '\\n'\n",
      " '== Chapter 3: Rebuilding Bridges ==\\n'\n",
      " '\\n'\n",
      " 'In the heart of Manhattan, the city buzzed with life outside Zoe’s tiny '\n",
      " 'apartment. The cacophony of honking horns, distant sirens, and the chatter '\n",
      " 'of pedestrians filled her days, yet within her, there was an emptiness as '\n",
      " 'vast as the skyline. The walls were adorned with her artwork, sprawling '\n",
      " 'canvases bursting with colors that reflected her emotions: bold strokes of '\n",
      " 'crimson for her frustrations, soft blues for her hopes, and shadowy grays '\n",
      " 'for moments of despair. Each piece told a story, but none shared the half of '\n",
      " 'her internal struggle. \\n'\n",
      " '\\n'\n",
      " 'Zoe glanced at her easel, where a blank canvas awaited her next stroke. Her '\n",
      " 'mind was cluttered with thoughts of what could have been. She often drifted '\n",
      " 'back to the sun-drenched days in the woods with Ethan, their laughter '\n",
      " 'echoing among the trees as they conjured up worlds beyond their own. Even '\n",
      " 'now, years later, she could feel the tug of their friendship, a bittersweet '\n",
      " 'melody playing in the back of her mind. \\n'\n",
      " '\\n'\n",
      " '“Hey, Zoe! You coming to the gallery opening tonight?” called Melissa, her '\n",
      " 'classmate from art school, as she flitted past with a stack of flyers. \\n'\n",
      " '\\n'\n",
      " '“Maybe,” Zoe defended, her voice trailing off. Her imagination took over, '\n",
      " 'and for a fleeting moment, she wondered if Ethan was still in town, if he '\n",
      " 'was looking for her, too. But reality quickly settled in, extinguishing that '\n",
      " 'spark of hope. In a city of millions, where paths swayed like a river’s '\n",
      " 'current, it felt unlikely they would ever cross again.\\n'\n",
      " '\\n'\n",
      " 'Meanwhile, back in their hometown, Ethan sat at his desk in a cubicle '\n",
      " 'surrounded by the familiar hum of office life. Barely able to sit still, he '\n",
      " 'fidgeted with the pen in his hand, imagining Zoe’s artwork hanging on the '\n",
      " 'walls instead of the dull corporate posters plastered around him. The job '\n",
      " 'had promise, a steady paycheck, but it felt hollow without the thrill of '\n",
      " 'creativity Zoe had always inspired in him. As he sorted through spreadsheets '\n",
      " 'and emails, a part of him yearned for the freedom he once felt—a life where '\n",
      " 'the only gauge of success was the joy of running through the trees, hand in '\n",
      " 'hand with his best friend.\\n'\n",
      " '\\n'\n",
      " 'His phone buzzed with notifications—happy memories from their shared past '\n",
      " 'creeping back into his thoughts. He flipped through pictures of them at the '\n",
      " 'creek, and it struck him hard, the vibrant innocence of their connection. '\n",
      " 'What would Zoe think of him now? Would she still see the boy with wild '\n",
      " 'dreams, or only the man in a suit, buried beneath layers of responsibility? '\n",
      " 'Every so often, a fleeting thought nudged him to reach out, to try and '\n",
      " 'bridge the vast gulf of time, but fear pulled him back—what if she had moved '\n",
      " 'on? What if their childhood had been nothing but fleeting whimsy?\\n'\n",
      " '\\n'\n",
      " 'Days turned into weeks, and when one particularly rainy evening left him '\n",
      " 'staring at the phone, heart pounding with unspent words, he closed his eyes '\n",
      " 'and imagined her voice. He could almost hear her teasing laugh intertwined '\n",
      " 'with the sound of raindrops tapping against the window. Underneath the '\n",
      " 'weight of adulthood, nostalgia was an anchor, pulling him back to those '\n",
      " 'sunlight-infused afternoons. \\n'\n",
      " '\\n'\n",
      " 'At that moment, a storm raged within both of them—a longing for connection, '\n",
      " 'yet shadows of self-doubt reigned. Zoe wiped her paint-stained hands on a '\n",
      " 'cloth, her heart aching to share her latest work with someone who '\n",
      " 'understood. Ethan leaned back in his chair, knowing he should pick up the '\n",
      " 'phone and call, let her know he still thought about her. But instead, they '\n",
      " 'both sat in silence, unaware that time continued its relentless march '\n",
      " 'forward. \\n'\n",
      " '\\n'\n",
      " 'Their paths remained unwoven, each heartbeat a promise of longing but also '\n",
      " 'of hesitation. It was as though the universe had conspired to keep them '\n",
      " 'apart, each holding on to fragments of laughter and dreams, waiting for '\n",
      " 'something—a sign, a moment—to bring them together once more.\\n'\n",
      " '\\n')\n"
     ]
    }
   ],
   "source": [
    "story = f'''\n",
    "\n",
    "Overview: {outline.story_topic}\n",
    "\n",
    "== Chapter 1: {outline.part1_title} ==\n",
    "\n",
    "{chapter1.content}\n",
    "\n",
    "\n",
    "== Chapter 2: {outline.part2_title} ==\n",
    "\n",
    "{chapter2.content}\n",
    "\n",
    "\n",
    "== Chapter 3: {outline.part3_title} ==\n",
    "\n",
    "{chapter3.content}\n",
    "\n",
    "'''\n",
    "\n",
    "import pprint\n",
    "pprint.pprint(story)"
   ]
  }
 ],
 "metadata": {
  "kernelspec": {
   "display_name": "base",
   "language": "python",
   "name": "python3"
  },
  "language_info": {
   "codemirror_mode": {
    "name": "ipython",
    "version": 3
   },
   "file_extension": ".py",
   "mimetype": "text/x-python",
   "name": "python",
   "nbconvert_exporter": "python",
   "pygments_lexer": "ipython3",
   "version": "3.12.4"
  }
 },
 "nbformat": 4,
 "nbformat_minor": 2
}
