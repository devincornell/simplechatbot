{
 "cells": [
  {
   "cell_type": "markdown",
   "metadata": {},
   "source": [
    "# Multi-agent Examples\n",
    "\n",
    "In this example I show an example of an agent that writes a story using a series of steps.\n",
    "\n",
    "1. The user provides an idea for their story.\n",
    "2. The `Outline Bot` generates an outline for the story including section titles and descriptions.\n",
    "3. The first section content is created by the `Story Bot` from section title/description and the overall story description.\n",
    "4. The `Summary Bot` creates a summary of the newly generated chapter.\n",
    "5. The section summary is passed to the `Story Bot` along with section title/description to generate the next section.\n",
    "6. All sections follow steps 3-5.\n",
    "...\n",
    "7. The sections are combined into a full story.\n",
    "\n",
    "![Story bot design diagram](https://storage.googleapis.com/public_data_09324832787/story_bot_design.svg)"
   ]
  },
  {
   "cell_type": "code",
   "execution_count": 1,
   "metadata": {},
   "outputs": [],
   "source": [
    "import sys\n",
    "sys.path.append('..')\n",
    "\n",
    "import simplechatbot\n",
    "from simplechatbot.openai import OpenAIChatBot"
   ]
  },
  {
   "cell_type": "code",
   "execution_count": 2,
   "metadata": {},
   "outputs": [],
   "source": [
    "keychain = simplechatbot.APIKeyChain.from_json_file('../keys.json')\n",
    "\n",
    "def new_chatbot(system_prompt: str):\n",
    "    return OpenAIChatBot.new(\n",
    "        model_name = 'gpt-4o-mini', \n",
    "        api_key=keychain['openai'],\n",
    "        system_prompt=system_prompt,\n",
    "    )\n",
    "\n",
    "def stream_it(chatbot: simplechatbot.ChatBot) -> simplechatbot.ChatResult:\n",
    "    stream = chatbot.chat_stream(None, add_to_history=False)\n",
    "    for chunk in stream:\n",
    "        print(chunk.content, end='', flush=True)\n",
    "    return stream.result()"
   ]
  },
  {
   "cell_type": "code",
   "execution_count": 3,
   "metadata": {},
   "outputs": [
    {
     "data": {
      "text/plain": [
       "StoryOutline(story_topic='Rekindling Old Friendships', part1_title='The Childhood Bond', part1_description='Two young boys, Alex and Ben, meet in their neighborhood and quickly become inseparable friends. They share adventures, secrets, and dreams, creating a strong bond that seems unbreakable. However, due to family circumstances, Ben moves away, and they lose touch. Their childhood memories linger, but life pulls them in different directions.', part2_title='Years Apart', part2_description='As the years pass, Alex and Ben grow up in different environments, shaping their identities and interests. Alex becomes a successful artist in his hometown, while Ben moves to a big city to pursue a career in technology. They both think of each other fondly but never make the effort to reconnect. Their lives seem fulfilling, but a sense of something missing remains.', part3_title='A Chance Encounter', part3_description=\"Fate intervenes when Alex visits the city for an art exhibition and unexpectedly runs into Ben. The initial surprise gives way to excitement as they reminisce about their childhood. However, both men struggle with their new adult lives, and the dynamic has changed. They navigate awkwardness, shared memories, and the challenge of rekindling their friendship while adapting to who they've become.\")"
      ]
     },
     "execution_count": 3,
     "metadata": {},
     "output_type": "execute_result"
    }
   ],
   "source": [
    "import pydantic\n",
    "\n",
    "from typing import Optional\n",
    "\n",
    "#from pydantic import BaseModel, Field\n",
    "import pydantic\n",
    "\n",
    "class StoryOutline(pydantic.BaseModel):\n",
    "    \"\"\"Outline of the story.\"\"\"\n",
    "\n",
    "    story_topic: str = pydantic.Field(description=\"The topic of the story.\")\n",
    "\n",
    "    part1_title: str = pydantic.Field(description=\"Title of Part 1 of the story.\")\n",
    "    part1_description: str = pydantic.Field(description=\"Longer description of part 1.\")\n",
    "\n",
    "    part2_title: str = pydantic.Field(description=\"Title of Part 2 of the story.\")\n",
    "    part2_description: str = pydantic.Field(description=\"Longer description of part 2.\")\n",
    "\n",
    "    part3_title: str = pydantic.Field(description=\"Title of Part 3 of the story.\")\n",
    "    part3_description: str = pydantic.Field(description=\"Longer description of part 3.\")\n",
    "\n",
    "\n",
    "system_prompt = '''\n",
    "The user will provide you a description of a story, and you must create a chapter outline with titles and brief descriptions.\n",
    "Each section should contain a title and a brief description of what happens in that section.\n",
    "The sections should all be part of a single narrative ark, but each section should have a complete beginning, middle, and end.\n",
    "'''\n",
    "outline_bot = new_chatbot(system_prompt)\n",
    "\n",
    "q = f'Write an outline for a story about two friends who met when they were young and then lost touch. They meet again as adults and have to navigate their new relationship.'\n",
    "outline: StoryOutline = outline_bot._model.with_structured_output(StoryOutline).invoke(q)\n",
    "#chatbot_joke = chatbot_base.clone(model_factory=lambda llm: llm.with_structured_output(Joke), clear_tools=True)\n",
    "#chatbot_joke.invoke('Tell me a joke about a chicken', max_tokens=50)\n",
    "\n",
    "#chatbot_joke.invoke('Tell me a joke about a chicken', max_tokens=50)\n",
    "outline"
   ]
  },
  {
   "cell_type": "code",
   "execution_count": 4,
   "metadata": {},
   "outputs": [
    {
     "name": "stdout",
     "output_type": "stream",
     "text": [
      "**The Childhood Bond**\n",
      "\n",
      "The sun hung low in the sky, casting golden rays across the quiet suburban street, where laughter and the sounds of summer filled the air. Alex sat on the curb, swinging his feet back and forth, watching the world around him with wide, curious eyes. It was a typical afternoon, the kind that promised adventure to any child willing to seek it. As he tossed a small pebble into the gutter, the sound of approaching footsteps caught his attention.\n",
      "\n",
      "\"Hey!\" a voice called out, bright and full of energy. Alex turned to see a boy his age, with wild brown hair and a grin that seemed to stretch from ear to ear. \"Wanna play?\"\n",
      "\n",
      "\"Sure!\" Alex replied, jumping up from his spot. \"What do you want to do?\"\n",
      "\n",
      "\"Let’s go explore the woods!\" Ben suggested, pointing toward the dense line of trees at the end of the street. The woods had always been a place of mystery—filled with whispered tales of hidden treasures and secret paths.\n",
      "\n",
      "They bounded down the sidewalk, their laughter echoing in the warm air, as they ventured into the shaded realm of ancient trees. The scent of pine filled their lungs, and the sunlight filtered through the leaves, creating a mosaic of light and shadow on the forest floor. \n",
      "\n",
      "\"Race you to the big oak!\" Ben shouted, taking off without waiting for a response. Alex sprinted after him, their feet pounding against the soft earth, both boys giggling uncontrollably. Ben reached the tree first, his hands resting on the rough bark as he caught his breath.\n",
      "\n",
      "\"You're too slow!\" he teased, sticking out his tongue. Alex playfully shoved him, and they both collapsed into a heap of laughter on the grass, their carefree spirits unburdened by the weight of the world.\n",
      "\n",
      "As the days turned into weeks, the two boys shared countless adventures. They built forts out of fallen branches, crafted imaginary worlds where they were heroes saving the day, and whispered secrets under the stars while lying on the cool grass. Their bond grew stronger with each passing moment, a friendship that felt as solid as the very ground they played upon.\n",
      "\n",
      "But as summer waned and the leaves began to turn, change loomed on the horizon. One afternoon, Ben’s mother called them inside, her voice tinged with a hint of sadness. \"Boys, we need to talk.\"\n",
      "\n",
      "Alex’s heart sank as he looked at Ben, who had turned pale. The news came like a storm cloud rolling in, dark and unexpected: Ben's family was moving across the country for his dad’s new job. The reality of it hit them both like a punch to the gut.\n",
      "\n",
      "\"But we can't!\" Alex protested, his voice trembling. \"We’re best friends! You can’t just leave!\"\n",
      "\n",
      "\"I don’t want to go, either,\" Ben replied, tears welling in his eyes. \"But we have to.\"\n",
      "\n",
      "In the days that followed, they clung to every moment, making promises that felt both essential and fragile. They carved their initials into the trunk of the big oak, a testament to their friendship. They shared one last adventure—their secret hideout where they had buried a time capsule filled with treasures, a token of their childhood dreams.\n",
      "\n",
      "When the day finally came for Ben to leave, Alex felt as if a part of him was being torn away. They stood on the front porch, the weight of unspoken words heavy between them. Ben hugged Alex tightly, whispering, \"No matter what, you’ll always be my best friend.\"\n",
      "\n",
      "As the car pulled away, Alex watched Ben’s face grow smaller and smaller until it vanished from sight. The laughter that once filled their days faded into silence, replaced by the bittersweet memories of their shared childhood.\n",
      "\n",
      "Time passed, and life pulled them in different directions. Alex would often find himself wandering back to that old oak, tracing the letters they carved into its bark, feeling the warmth of their friendship linger like the fading summer sun. Though the world had changed, the bond they formed remained etched in his heart, a cherished piece of his childhood that he would never forget."
     ]
    }
   ],
   "source": [
    "def first_section_writer_prompt(story_topic: str, section_title: str, section_description: str):\n",
    "\n",
    "    return f'''\n",
    "    You are to write the first section of a larger story based on a general story topic, the name of the section, and a longer description of what happens.\n",
    "\n",
    "    Your responses should only include text that is part of the story.\n",
    "\n",
    "    General story topic: \"{story_topic}\"\n",
    "\n",
    "    Section title: \"{section_title}\"\n",
    "\n",
    "    Description: \"{section_description}\"\n",
    "\n",
    "    '''\n",
    "cb1 = new_chatbot(first_section_writer_prompt(outline.story_topic, outline.part1_title, outline.part1_description))\n",
    "ch1_result = stream_it(cb1)"
   ]
  },
  {
   "cell_type": "code",
   "execution_count": 5,
   "metadata": {},
   "outputs": [
    {
     "name": "stdout",
     "output_type": "stream",
     "text": [
      "**Summary: The Childhood Bond**\n",
      "\n",
      "On a sunny afternoon, Alex meets Ben, a boy with wild hair, and they embark on a series of adventures in the nearby woods, building a strong friendship filled with laughter and imaginative play. As summer ends, they face the heartbreaking news that Ben's family is moving away, leading to emotional goodbyes and promises to remain best friends. They create lasting memories, including carving their initials into a tree and burying a time capsule. After Ben leaves, Alex struggles with the absence of his friend but holds onto the cherished memories of their childhood bond, visiting their secret spot and reflecting on what they shared."
     ]
    }
   ],
   "source": [
    "def summary_prompt(story_so_far: str) -> str:\n",
    "    return f'''\n",
    "    You need to create a summary of the following section of a story that can be used as a starting point for writing the next section.\n",
    "\n",
    "    Your responses should only include text that is part of the story.\n",
    "\n",
    "    The previous section of the story:\n",
    "\n",
    "    {story_so_far}\n",
    "    '''\n",
    "cb1_sum = new_chatbot(summary_prompt(ch1_result.content))\n",
    "ch1_sum = stream_it(cb1_sum)"
   ]
  },
  {
   "cell_type": "code",
   "execution_count": 6,
   "metadata": {},
   "outputs": [
    {
     "name": "stdout",
     "output_type": "stream",
     "text": [
      "**Years Apart**\n",
      "\n",
      "As the sun dipped below the horizon, painting the sky in hues of orange and purple, Alex stood in his small studio, surrounded by canvases that captured the beauty of his hometown. He dipped his brush into a palette of colors, each stroke a reflection of the life he had built since Ben moved away. The quaint streets, the familiar faces, and the gentle rustling of leaves in the nearby woods were his muses, but amidst the vibrant scenes he created, there lingered an emptiness. He often found himself staring at the tree they had carved their initials into, a bittersweet reminder of a friendship that had weathered the storms of childhood but faded with time.\n",
      "\n",
      "Meanwhile, in the bustling heart of the city, Ben was immersed in the world of technology, surrounded by the hum of computers and the glow of screens. He had traded the rustling leaves for the cacophony of urban life, and although he thrived in his career, he often found himself reminiscing about the adventures he and Alex had shared. Late-night coding sessions were accompanied by thoughts of the laughter they had exchanged over makeshift campfires, and the thrill of their secret hideouts in the woods. Yet, in the whirlwind of deadlines and city life, Ben never found the courage to reach out. The years slipped by, each month a reminder of the bond that once was, now an echo of the past.\n",
      "\n",
      "Both men moved through their lives with a sense of fulfillment, yet an unshakeable feeling lingered—something was missing. Alex found success in galleries and art shows, but often, when he received compliments, he would imagine how Ben would have reacted, his wild hair bouncing with excitement. Ben, in turn, celebrated promotions and accolades, but every achievement felt slightly hollow without someone to share it with, someone who understood his journey from the very beginning.\n",
      "\n",
      "Despite the distance, both men held a piece of each other in their hearts. They would occasionally scroll through old photos on their phones—pictures of them grinning widely, arms slung around each other, with the woods stretching behind them like a canvas of childhood. Those images brought warmth, yet they also served as a reminder of what had been lost to time and circumstance. \n",
      "\n",
      "As the seasons changed, Alex found himself at a crossroads. He had completed his latest collection and was preparing for an exhibition that would showcase the essence of growth and change. But as he framed the last piece, a painting inspired by the memories of his childhood with Ben, he felt a tug at his heart—a longing to reconnect, to bridge the years that had kept them apart. \n",
      "\n",
      "On the other side of the city, Ben sat in his apartment, staring at a screen filled with code that seemed to blur together. In a moment of nostalgia, he opened a drawer and pulled out an old, worn-out notebook—the very one they had used to jot down their dreams and plans as kids. As he flipped through its pages, memories flooded back, reminding him of the simplicity of their friendship and the joy it had brought him. He felt a stirring in his chest, a desire to reach out, to rekindle what they had lost.\n",
      "\n",
      "Both men were on the brink of change, standing before the door that separated them from a reunion, unaware that fate had a plan to unite them once more."
     ]
    }
   ],
   "source": [
    "def next_section_writer_prompt(story_topic: str, section_title: str, section_description: str, story_so_far: str):\n",
    "    return f'''\n",
    "    You are to write the first section of a larger story based on a general story topic, the name of the section, and a longer description of what happens.\n",
    "\n",
    "    Your responses should only include text that is part of the story.\n",
    "\n",
    "    General story topic: \"{story_topic}\"\n",
    "\n",
    "    Summary of previous section: \"{story_so_far}\"\n",
    "\n",
    "    Section title: \"{section_title}\"\n",
    "\n",
    "    Description: \"{section_description}\"\n",
    "\n",
    "    '''\n",
    "cb2 = new_chatbot(next_section_writer_prompt(outline.story_topic, outline.part2_title, outline.part2_description, ch1_sum.content))\n",
    "ch2_result = stream_it(cb2)"
   ]
  },
  {
   "cell_type": "code",
   "execution_count": 7,
   "metadata": {},
   "outputs": [
    {
     "name": "stdout",
     "output_type": "stream",
     "text": [
      "As Alex prepares for his exhibition, he feels a strong desire to reconnect with Ben, the memories of their childhood friendship weighing heavily on his heart. Meanwhile, Ben reflects on their shared past while going through an old notebook filled with dreams they once had, igniting a yearning to reach out to Alex. Both men stand at a pivotal moment in their lives, ready to bridge the gap that years of distance have created, unaware that fate is orchestrating their reunion."
     ]
    }
   ],
   "source": [
    "cb2_sum = new_chatbot(summary_prompt(ch2_result.content))\n",
    "ch2_sum = stream_it(cb2_sum)"
   ]
  },
  {
   "cell_type": "code",
   "execution_count": 8,
   "metadata": {},
   "outputs": [
    {
     "name": "stdout",
     "output_type": "stream",
     "text": [
      "**Years Apart**\n",
      "\n",
      "The years drifted by like leaves caught in a gentle autumn breeze, swirling through the seasons of life. Alex found solace in the vibrant colors of his paintbrush, each stroke on the canvas a tribute to the adventures he once shared with Ben. The small town felt comforting, its familiar streets and friendly faces wrapping around him like a warm blanket. Yet, in the quiet moments, when the sun dipped below the horizon and shadows danced across his studio, a flicker of nostalgia would ignite in his heart, reminding him of laughter echoing through the woods and the promise of forever friendship whispered beneath the tall oak tree.\n",
      "\n",
      "Meanwhile, in the bustling heart of the city, Ben navigated the concrete labyrinth of his new life, his wild hair now tamed into a professional style that suited his ambitions in technology. He thrived amidst the buzz of innovation and the thrill of new challenges. Yet, even as he climbed the corporate ladder, the faint memory of a childhood friend lingered at the edges of his consciousness. On weekends, when he would visit parks or cafes bustling with laughter, he often found himself gazing at the sky, imagining if Alex was somewhere painting the very clouds that drifted above.\n",
      "\n",
      "Both boys, now men, had buried their friendship beneath the weight of their new realities. Alex attended art shows and mingled with fellow creatives, sharing stories and dreams with kindred spirits. He often caught himself mentioning a friend from his childhood, a wistful smile breaking across his face, but the conversations would inevitably shift, and Ben's name would fade into the background, a ghost of a memory.\n",
      "\n",
      "In the city, Ben would occasionally scroll through his phone, pausing at old photos from a summer long gone. His heart would swell with the joy of those carefree days, yet the urge to reconnect faded like the last light of day. He had built a life filled with achievement and ambition, but the emptiness of missing a true friend nagged at him, a silent ache he couldn’t quite place.\n",
      "\n",
      "Years passed, and both Alex and Ben found themselves in comfortable routines, their lives rich with experiences but lacking the depth of shared memories. It wasn’t until one fateful autumn day, when Alex received an unexpected email, that the past came rushing back. The subject line read: “A Blast from the Past,” and when he opened it, he was met with a familiar face, a digital snapshot of Ben standing in front of a tech conference banner, his trademark grin lighting up the screen.\n",
      "\n",
      "With trembling fingers, Alex typed a response, his heart racing at the thought of rekindling a friendship that had once meant the world to him. “Hey, Ben! It’s been too long. How have you been?” \n",
      "\n",
      "As he hit send, he felt a spark of hope, the kind that flickers in the darkest of times, and for the first time in years, the thread of their childhood bond began to weave its way back into their lives."
     ]
    }
   ],
   "source": [
    "cb3 = new_chatbot(next_section_writer_prompt(outline.story_topic, outline.part2_title, outline.part2_description, ch1_sum.content))\n",
    "ch3_result = stream_it(cb3)"
   ]
  },
  {
   "cell_type": "code",
   "execution_count": 9,
   "metadata": {},
   "outputs": [
    {
     "name": "stdout",
     "output_type": "stream",
     "text": [
      "As Alex waited for a reply, memories of their shared past flooded his mind. He recalled the laughter, the adventures, and the promises made under the oak tree. Each moment felt like a thread pulling him back to a time when their friendship was unbreakable. Meanwhile, Ben sat in his modern apartment, staring at the email notification that had just pinged on his screen. A rush of emotions surged through him as he recognized Alex’s name. He hesitated for a moment, grappling with the weight of the years that had passed and the life he had built without his childhood friend. \n",
      "\n",
      "Finally, with a deep breath, he opened the email. The warmth of Alex's words brought a smile to his face, and he felt a longing to reconnect. As he began to type his response, he considered how much he missed the simplicity of their friendship and the joy that came from just being together. The excitement of rediscovering their bond filled him with a sense of purpose. \n",
      "\n",
      "Both men stood on the precipice of change, their hearts igniting with the possibility of rekindling a friendship that had lingered in the shadows for too long. Little did they know, this was just the beginning of a journey that would lead them back to each other, challenging them to confront the years apart and the lives they had built in solitude."
     ]
    }
   ],
   "source": [
    "cb3_sum = new_chatbot(summary_prompt(ch3_result.content))\n",
    "ch3_sum = stream_it(cb3_sum)"
   ]
  },
  {
   "cell_type": "code",
   "execution_count": 10,
   "metadata": {},
   "outputs": [
    {
     "data": {
      "text/plain": [
       "dict_keys(['The Childhood Bond', 'Years Apart', 'A Chance Encounter'])"
      ]
     },
     "execution_count": 10,
     "metadata": {},
     "output_type": "execute_result"
    }
   ],
   "source": [
    "story = dict()\n",
    "story[outline.part1_title] = ch1_result.content\n",
    "story[outline.part2_title] = ch2_result.content\n",
    "story[outline.part3_title] = ch3_result.content\n",
    "story.keys()"
   ]
  },
  {
   "cell_type": "code",
   "execution_count": 11,
   "metadata": {},
   "outputs": [
    {
     "name": "stdout",
     "output_type": "stream",
     "text": [
      "\n",
      "\n",
      "\n",
      "The Childhood Bond\n",
      "\n",
      "**The Childhood Bond**\n",
      "\n",
      "The sun hung low in the sky, casting golden rays across the quiet suburban street, where laughter and the sounds of summer filled the air. Alex sat on the curb, swinging his feet back and forth, watching the world around him with wide, curious eyes. It was a typical afternoon, the kind that promised adventure to any child willing to seek it. As he tossed a small pebble into the gutter, the sound of approaching footsteps caught his attention.\n",
      "\n",
      "\"Hey!\" a voice called out, bright and full of energy. Alex turned to see a boy his age, with wild brown hair and a grin that seemed to stretch from ear to ear. \"Wanna play?\"\n",
      "\n",
      "\"Sure!\" Alex replied, jumping up from his spot. \"What do you want to do?\"\n",
      "\n",
      "\"Let’s go explore the woods!\" Ben suggested, pointing toward the dense line of trees at the end of the street. The woods had always been a place of mystery—filled with whispered tales of hidden treasures and secret paths.\n",
      "\n",
      "They bounded down the sidewalk, their laughter echoing in the warm air, as they ventured into the shaded realm of ancient trees. The scent of pine filled their lungs, and the sunlight filtered through the leaves, creating a mosaic of light and shadow on the forest floor. \n",
      "\n",
      "\"Race you to the big oak!\" Ben shouted, taking off without waiting for a response. Alex sprinted after him, their feet pounding against the soft earth, both boys giggling uncontrollably. Ben reached the tree first, his hands resting on the rough bark as he caught his breath.\n",
      "\n",
      "\"You're too slow!\" he teased, sticking out his tongue. Alex playfully shoved him, and they both collapsed into a heap of laughter on the grass, their carefree spirits unburdened by the weight of the world.\n",
      "\n",
      "As the days turned into weeks, the two boys shared countless adventures. They built forts out of fallen branches, crafted imaginary worlds where they were heroes saving the day, and whispered secrets under the stars while lying on the cool grass. Their bond grew stronger with each passing moment, a friendship that felt as solid as the very ground they played upon.\n",
      "\n",
      "But as summer waned and the leaves began to turn, change loomed on the horizon. One afternoon, Ben’s mother called them inside, her voice tinged with a hint of sadness. \"Boys, we need to talk.\"\n",
      "\n",
      "Alex’s heart sank as he looked at Ben, who had turned pale. The news came like a storm cloud rolling in, dark and unexpected: Ben's family was moving across the country for his dad’s new job. The reality of it hit them both like a punch to the gut.\n",
      "\n",
      "\"But we can't!\" Alex protested, his voice trembling. \"We’re best friends! You can’t just leave!\"\n",
      "\n",
      "\"I don’t want to go, either,\" Ben replied, tears welling in his eyes. \"But we have to.\"\n",
      "\n",
      "In the days that followed, they clung to every moment, making promises that felt both essential and fragile. They carved their initials into the trunk of the big oak, a testament to their friendship. They shared one last adventure—their secret hideout where they had buried a time capsule filled with treasures, a token of their childhood dreams.\n",
      "\n",
      "When the day finally came for Ben to leave, Alex felt as if a part of him was being torn away. They stood on the front porch, the weight of unspoken words heavy between them. Ben hugged Alex tightly, whispering, \"No matter what, you’ll always be my best friend.\"\n",
      "\n",
      "As the car pulled away, Alex watched Ben’s face grow smaller and smaller until it vanished from sight. The laughter that once filled their days faded into silence, replaced by the bittersweet memories of their shared childhood.\n",
      "\n",
      "Time passed, and life pulled them in different directions. Alex would often find himself wandering back to that old oak, tracing the letters they carved into its bark, feeling the warmth of their friendship linger like the fading summer sun. Though the world had changed, the bond they formed remained etched in his heart, a cherished piece of his childhood that he would never forget.\n",
      "\n",
      "\n",
      "\n",
      "\n",
      "\n",
      "\n",
      "Years Apart\n",
      "\n",
      "**Years Apart**\n",
      "\n",
      "As the sun dipped below the horizon, painting the sky in hues of orange and purple, Alex stood in his small studio, surrounded by canvases that captured the beauty of his hometown. He dipped his brush into a palette of colors, each stroke a reflection of the life he had built since Ben moved away. The quaint streets, the familiar faces, and the gentle rustling of leaves in the nearby woods were his muses, but amidst the vibrant scenes he created, there lingered an emptiness. He often found himself staring at the tree they had carved their initials into, a bittersweet reminder of a friendship that had weathered the storms of childhood but faded with time.\n",
      "\n",
      "Meanwhile, in the bustling heart of the city, Ben was immersed in the world of technology, surrounded by the hum of computers and the glow of screens. He had traded the rustling leaves for the cacophony of urban life, and although he thrived in his career, he often found himself reminiscing about the adventures he and Alex had shared. Late-night coding sessions were accompanied by thoughts of the laughter they had exchanged over makeshift campfires, and the thrill of their secret hideouts in the woods. Yet, in the whirlwind of deadlines and city life, Ben never found the courage to reach out. The years slipped by, each month a reminder of the bond that once was, now an echo of the past.\n",
      "\n",
      "Both men moved through their lives with a sense of fulfillment, yet an unshakeable feeling lingered—something was missing. Alex found success in galleries and art shows, but often, when he received compliments, he would imagine how Ben would have reacted, his wild hair bouncing with excitement. Ben, in turn, celebrated promotions and accolades, but every achievement felt slightly hollow without someone to share it with, someone who understood his journey from the very beginning.\n",
      "\n",
      "Despite the distance, both men held a piece of each other in their hearts. They would occasionally scroll through old photos on their phones—pictures of them grinning widely, arms slung around each other, with the woods stretching behind them like a canvas of childhood. Those images brought warmth, yet they also served as a reminder of what had been lost to time and circumstance. \n",
      "\n",
      "As the seasons changed, Alex found himself at a crossroads. He had completed his latest collection and was preparing for an exhibition that would showcase the essence of growth and change. But as he framed the last piece, a painting inspired by the memories of his childhood with Ben, he felt a tug at his heart—a longing to reconnect, to bridge the years that had kept them apart. \n",
      "\n",
      "On the other side of the city, Ben sat in his apartment, staring at a screen filled with code that seemed to blur together. In a moment of nostalgia, he opened a drawer and pulled out an old, worn-out notebook—the very one they had used to jot down their dreams and plans as kids. As he flipped through its pages, memories flooded back, reminding him of the simplicity of their friendship and the joy it had brought him. He felt a stirring in his chest, a desire to reach out, to rekindle what they had lost.\n",
      "\n",
      "Both men were on the brink of change, standing before the door that separated them from a reunion, unaware that fate had a plan to unite them once more.\n",
      "\n",
      "\n",
      "\n",
      "\n",
      "\n",
      "\n",
      "A Chance Encounter\n",
      "\n",
      "**Years Apart**\n",
      "\n",
      "The years drifted by like leaves caught in a gentle autumn breeze, swirling through the seasons of life. Alex found solace in the vibrant colors of his paintbrush, each stroke on the canvas a tribute to the adventures he once shared with Ben. The small town felt comforting, its familiar streets and friendly faces wrapping around him like a warm blanket. Yet, in the quiet moments, when the sun dipped below the horizon and shadows danced across his studio, a flicker of nostalgia would ignite in his heart, reminding him of laughter echoing through the woods and the promise of forever friendship whispered beneath the tall oak tree.\n",
      "\n",
      "Meanwhile, in the bustling heart of the city, Ben navigated the concrete labyrinth of his new life, his wild hair now tamed into a professional style that suited his ambitions in technology. He thrived amidst the buzz of innovation and the thrill of new challenges. Yet, even as he climbed the corporate ladder, the faint memory of a childhood friend lingered at the edges of his consciousness. On weekends, when he would visit parks or cafes bustling with laughter, he often found himself gazing at the sky, imagining if Alex was somewhere painting the very clouds that drifted above.\n",
      "\n",
      "Both boys, now men, had buried their friendship beneath the weight of their new realities. Alex attended art shows and mingled with fellow creatives, sharing stories and dreams with kindred spirits. He often caught himself mentioning a friend from his childhood, a wistful smile breaking across his face, but the conversations would inevitably shift, and Ben's name would fade into the background, a ghost of a memory.\n",
      "\n",
      "In the city, Ben would occasionally scroll through his phone, pausing at old photos from a summer long gone. His heart would swell with the joy of those carefree days, yet the urge to reconnect faded like the last light of day. He had built a life filled with achievement and ambition, but the emptiness of missing a true friend nagged at him, a silent ache he couldn’t quite place.\n",
      "\n",
      "Years passed, and both Alex and Ben found themselves in comfortable routines, their lives rich with experiences but lacking the depth of shared memories. It wasn’t until one fateful autumn day, when Alex received an unexpected email, that the past came rushing back. The subject line read: “A Blast from the Past,” and when he opened it, he was met with a familiar face, a digital snapshot of Ben standing in front of a tech conference banner, his trademark grin lighting up the screen.\n",
      "\n",
      "With trembling fingers, Alex typed a response, his heart racing at the thought of rekindling a friendship that had once meant the world to him. “Hey, Ben! It’s been too long. How have you been?” \n",
      "\n",
      "As he hit send, he felt a spark of hope, the kind that flickers in the darkest of times, and for the first time in years, the thread of their childhood bond began to weave its way back into their lives.\n",
      "\n",
      "\n",
      "\n"
     ]
    }
   ],
   "source": [
    "for title, content in story.items():\n",
    "    print(f'\\n\\n\\n{title}\\n\\n{content}\\n\\n\\n')"
   ]
  },
  {
   "cell_type": "code",
   "execution_count": null,
   "metadata": {},
   "outputs": [],
   "source": []
  },
  {
   "cell_type": "code",
   "execution_count": null,
   "metadata": {},
   "outputs": [],
   "source": []
  },
  {
   "cell_type": "code",
   "execution_count": null,
   "metadata": {},
   "outputs": [],
   "source": []
  },
  {
   "cell_type": "code",
   "execution_count": null,
   "metadata": {},
   "outputs": [],
   "source": []
  }
 ],
 "metadata": {
  "kernelspec": {
   "display_name": "base",
   "language": "python",
   "name": "python3"
  },
  "language_info": {
   "codemirror_mode": {
    "name": "ipython",
    "version": 3
   },
   "file_extension": ".py",
   "mimetype": "text/x-python",
   "name": "python",
   "nbconvert_exporter": "python",
   "pygments_lexer": "ipython3",
   "version": "3.12.4"
  }
 },
 "nbformat": 4,
 "nbformat_minor": 2
}
