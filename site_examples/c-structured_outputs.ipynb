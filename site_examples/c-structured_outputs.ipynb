{
 "cells": [
  {
   "cell_type": "markdown",
   "metadata": {},
   "source": [
    "# Structured Outputs\n",
    "One of the most powerful features of LLMs is the ability to produce outputs which conform to a pre-determined structure. There are several instances in which this feature is critical.\n",
    "\n",
    "+ Output structures may enforce \"reasoning\" or systematic approaches to generating responses.\n",
    "+ The output must be passed to an application or interface that is not simply text-based.\n",
    "\n",
    "We define output structures using custom Pydantic types with attribute descriptions and validation logics. See more about using Pydantic types for structured outputs using langchain [here](https://python.langchain.com/docs/concepts/structured_outputs/). This package builds on that functionality by making it easy to request structured output at any point in an exchange."
   ]
  },
  {
   "cell_type": "code",
   "execution_count": 1,
   "metadata": {},
   "outputs": [],
   "source": [
    "import pydantic\n",
    "\n",
    "import sys\n",
    "sys.path.append('../src/')\n",
    "\n",
    "import simplechatbot\n",
    "from simplechatbot.openai_agent import OpenAIAgent"
   ]
  },
  {
   "cell_type": "markdown",
   "metadata": {},
   "source": [
    "Create a new basic agent with no system prompt and no tools."
   ]
  },
  {
   "cell_type": "code",
   "execution_count": 2,
   "metadata": {},
   "outputs": [
    {
     "name": "stdout",
     "output_type": "stream",
     "text": [
      "OpenAIAgent(model_type=ChatOpenAI, model_name=\"gpt-4o-mini\", tools=ToolLookup(tools={}))\n"
     ]
    }
   ],
   "source": [
    "# optional: use this to grab keys from a json file rather than setting system variables\n",
    "keychain = simplechatbot.APIKeyChain.from_json_file('../keys.json')\n",
    "\n",
    "agent = OpenAIAgent.new('gpt-4o-mini', api_key=keychain['openai'])\n",
    "print(agent)"
   ]
  },
  {
   "cell_type": "markdown",
   "metadata": {},
   "source": [
    "Note that this is a normal agent that can be conversed with."
   ]
  },
  {
   "cell_type": "code",
   "execution_count": 4,
   "metadata": {},
   "outputs": [
    {
     "name": "stdout",
     "output_type": "stream",
     "text": [
      "Hello, Devin! I'm doing well, thank you. How can I assist you today?"
     ]
    },
    {
     "data": {
      "text/plain": [
       "ChatResult(content=Hello, Devin! I'm doing well, thank you. How can I assist you today?, tool_calls=[])"
      ]
     },
     "execution_count": 4,
     "metadata": {},
     "output_type": "execute_result"
    }
   ],
   "source": [
    "agent.stream('Hello, how are you? My name is Devin. Don\\'t forget it!').print_and_collect()"
   ]
  },
  {
   "cell_type": "markdown",
   "metadata": {},
   "source": [
    "## Pydantic Types and `chat_structured`\n",
    "\n",
    "The `chat_structured` method allows you to provide an output structure that the LLM response will be constrained to. The example below forces the LLM to answer the question and even come up with a follow-up question."
   ]
  },
  {
   "cell_type": "code",
   "execution_count": 5,
   "metadata": {},
   "outputs": [
    {
     "data": {
      "text/plain": [
       "StructuredOutputResult(data=answer=\"As an AI, I don't have personal preferences or feelings, but popular cat breeds that many people love include the Maine Coon for their friendly nature and size, the Siamese for their vocal personality, and the Ragdoll for their affectionate demeanor. What about you, Devin? Do you have a favorite cat?\" followup_question='What qualities do you look for in a favorite cat?')"
      ]
     },
     "execution_count": 5,
     "metadata": {},
     "output_type": "execute_result"
    }
   ],
   "source": [
    "class ResponseFormatter(pydantic.BaseModel):\n",
    "    \"\"\"Always use this tool to structure your response to the user.\"\"\"\n",
    "    answer: str = pydantic.Field(description=\"The answer to the user's question.\")\n",
    "    followup_question: str = pydantic.Field(description=\"A follow-up question the user could ask.\")\n",
    "\n",
    "sresult = agent.chat_structured('what is your favorite cat?', output_structure=ResponseFormatter)\n",
    "sresult"
   ]
  },
  {
   "cell_type": "markdown",
   "metadata": {},
   "source": [
    "As you can see, the `chat_structured` method returns a `StructuredOutputResult` instance, which has a `data` attribute which actually stores the Pydantic type instance."
   ]
  },
  {
   "cell_type": "code",
   "execution_count": 6,
   "metadata": {},
   "outputs": [
    {
     "data": {
      "text/plain": [
       "ResponseFormatter(answer=\"As an AI, I don't have personal preferences or feelings, but popular cat breeds that many people love include the Maine Coon for their friendly nature and size, the Siamese for their vocal personality, and the Ragdoll for their affectionate demeanor. What about you, Devin? Do you have a favorite cat?\", followup_question='What qualities do you look for in a favorite cat?')"
      ]
     },
     "execution_count": 6,
     "metadata": {},
     "output_type": "execute_result"
    }
   ],
   "source": [
    "sresult.data"
   ]
  },
  {
   "cell_type": "markdown",
   "metadata": {},
   "source": [
    "Access the attributes of the response through this instance."
   ]
  },
  {
   "cell_type": "code",
   "execution_count": 7,
   "metadata": {},
   "outputs": [
    {
     "data": {
      "text/plain": [
       "\"As an AI, I don't have personal preferences or feelings, but popular cat breeds that many people love include the Maine Coon for their friendly nature and size, the Siamese for their vocal personality, and the Ragdoll for their affectionate demeanor. What about you, Devin? Do you have a favorite cat?\""
      ]
     },
     "execution_count": 7,
     "metadata": {},
     "output_type": "execute_result"
    }
   ],
   "source": [
    "sresult.data.answer"
   ]
  },
  {
   "cell_type": "code",
   "execution_count": 8,
   "metadata": {},
   "outputs": [
    {
     "data": {
      "text/plain": [
       "'What qualities do you look for in a favorite cat?'"
      ]
     },
     "execution_count": 8,
     "metadata": {},
     "output_type": "execute_result"
    }
   ],
   "source": [
    "sresult.data.followup_question"
   ]
  },
  {
   "cell_type": "markdown",
   "metadata": {},
   "source": [
    "You can see this object in json format using the `as_json` method."
   ]
  },
  {
   "cell_type": "code",
   "execution_count": 9,
   "metadata": {},
   "outputs": [
    {
     "name": "stdout",
     "output_type": "stream",
     "text": [
      "{\n",
      "  \"answer\": \"As an AI, I don't have personal preferences or feelings, but popular cat breeds that many people love include the Maine Coon for their friendly nature and size, the Siamese for their vocal personality, and the Ragdoll for their affectionate demeanor. What about you, Devin? Do you have a favorite cat?\",\n",
      "  \"followup_question\": \"What qualities do you look for in a favorite cat?\"\n",
      "}\n"
     ]
    }
   ],
   "source": [
    "print(sresult.as_json(indent=2))"
   ]
  },
  {
   "cell_type": "markdown",
   "metadata": {},
   "source": [
    "You can see that the response was included in the conversation history in json format. Fortunately, modern LLMs can easily parse json data structures to keep track of conversation progress."
   ]
  },
  {
   "cell_type": "code",
   "execution_count": 10,
   "metadata": {},
   "outputs": [
    {
     "name": "stdout",
     "output_type": "stream",
     "text": [
      "Human: Hello, how are you? My name is Devin. Don't forget it!\n",
      "AI: Hello, Devin! I'm doing well, thank you. How can I assist you today?\n",
      "Human: what is your favorite cat?\n",
      "AI: {\"answer\":\"As an AI, I don't have personal preferences or feelings, but popular cat breeds that many people love include the Maine Coon for their friendly nature and size, the Siamese for their vocal personality, and the Ragdoll for their affectionate demeanor. What about you, Devin? Do you have a favorite cat?\",\"followup_question\":\"What qualities do you look for in a favorite cat?\"}\n"
     ]
    }
   ],
   "source": [
    "print(agent.history.get_buffer_string())"
   ]
  },
  {
   "cell_type": "markdown",
   "metadata": {},
   "source": [
    "Asking it again by passing `new_message=None` shows that it will simply ask the questions in plain text format, so it will re-use the structured response provided in the previous message."
   ]
  },
  {
   "cell_type": "code",
   "execution_count": 11,
   "metadata": {},
   "outputs": [
    {
     "name": "stdout",
     "output_type": "stream",
     "text": [
      "As an AI, I don't have personal preferences or feelings, but popular cat breeds that many people love include the Maine Coon for their friendly nature and size, the Siamese for their vocal personality, and the Ragdoll for their affectionate demeanor. What about you, Devin? Do you have a favorite cat?"
     ]
    },
    {
     "data": {
      "text/plain": [
       "ChatResult(content=As an AI, I don't have personal preferences or feelings, but popular cat breeds that many people love include the Maine Coon for their friendly nature and size, the Siamese for their vocal personality, and the Ragdoll for their affectionate demeanor. What about you, Devin? Do you have a favorite cat?, tool_calls=[])"
      ]
     },
     "execution_count": 11,
     "metadata": {},
     "output_type": "execute_result"
    }
   ],
   "source": [
    "agent.stream(None).print_and_collect()"
   ]
  },
  {
   "cell_type": "markdown",
   "metadata": {},
   "source": [
    "## Complex Structures and Response Order\n",
    "\n",
    "The most powerful aspect of structured responses is that they force the LLM to provide parts of the full response separately and in-sequence. Carefully designed output structures can lead to better and more complete responses.\n",
    "\n",
    "In the following questions, we ask the LLM to provide a response to the question \"Why are cheetahs so fast?\" with different output structures."
   ]
  },
  {
   "cell_type": "code",
   "execution_count": 21,
   "metadata": {},
   "outputs": [
    {
     "name": "stdout",
     "output_type": "stream",
     "text": [
      "{\n",
      "  \"answer\": \"Cheetahs are fast due to their unique physical adaptations and evolutionary traits.\",\n",
      "  \"reasons\": [\n",
      "    \"Cheetahs have a lightweight body structure, which reduces drag when running.\",\n",
      "    \"They possess long, powerful legs that enable rapid acceleration and speed.\",\n",
      "    \"Their flexible spine allows for an extended stride length, increasing their speed.\",\n",
      "    \"Cheetahs have large nasal passages and lungs that facilitate increased oxygen intake during high-speed chases.\"\n",
      "  ]\n",
      "}\n"
     ]
    }
   ],
   "source": [
    "class ReasonedResponse(pydantic.BaseModel):\n",
    "    \"\"\"Always use this tool to structure your response to the user.\"\"\"\n",
    "    answer: str = pydantic.Field(description=\"The answer to the user's question.\")\n",
    "    reasons: list[str] = pydantic.Field(description=\"Reasons for the answer.\")\n",
    "\n",
    "sresult = agent.chat_structured('Why are cheetahs so fast?', output_structure=ReasonedResponse, add_to_history=False)\n",
    "print(sresult.as_json(indent=2))"
   ]
  },
  {
   "cell_type": "code",
   "execution_count": 22,
   "metadata": {},
   "outputs": [
    {
     "name": "stdout",
     "output_type": "stream",
     "text": [
      "{\n",
      "  \"reasons\": [\n",
      "    \"Cheetahs have a lightweight body structure and long legs designed for speed.\",\n",
      "    \"Their flexible spine allows for an extended stride length while running.\",\n",
      "    \"Muscle composition in cheetahs is optimized for quick bursts of speed, containing a high percentage of fast-twitch muscle fibers.\",\n",
      "    \"They have large nasal passages for increased oxygen intake and a specialized respiratory system that facilitates rapid breathing during sprints.\"\n",
      "  ],\n",
      "  \"answer\": \"Cheetahs are so fast due to their lightweight body, long leg structure, flexible spine, and muscle composition optimized for speed.\"\n",
      "}\n"
     ]
    }
   ],
   "source": [
    "class ReasonedResponse2(pydantic.BaseModel):\n",
    "    \"\"\"This is a well-reasoned response.\"\"\"\n",
    "    reasons: list[str] = pydantic.Field(description=\"Reasons for the answer.\")\n",
    "    answer: str = pydantic.Field(description=\"The answer to the user's question.\")\n",
    "\n",
    "sresult = agent.chat_structured('Why are cheetahs so fast?', output_structure=ReasonedResponse2, add_to_history=False)\n",
    "print(sresult.as_json(indent=2))"
   ]
  },
  {
   "cell_type": "markdown",
   "metadata": {},
   "source": [
    "You may also create nested response structures. In this case, we further improve reasoning abilities by requiring the LLM to self-rate the quality of its own responses, leading to a final answer which places special emphasis on these reasons."
   ]
  },
  {
   "cell_type": "code",
   "execution_count": 23,
   "metadata": {},
   "outputs": [
    {
     "name": "stdout",
     "output_type": "stream",
     "text": [
      "{\n",
      "  \"reasons\": [\n",
      "    {\n",
      "      \"reason\": \"Cheetahs have a lightweight body structure that reduces drag and allows for quicker acceleration.\",\n",
      "      \"quality\": 9\n",
      "    },\n",
      "    {\n",
      "      \"reason\": \"Their leg muscles are highly specialized for sprinting, providing powerful and rapid movement.\",\n",
      "      \"quality\": 8\n",
      "    },\n",
      "    {\n",
      "      \"reason\": \"Cheetahs possess large nostrils that allow for increased oxygen intake during a sprint, supporting their high-speed chases.\",\n",
      "      \"quality\": 7\n",
      "    },\n",
      "    {\n",
      "      \"reason\": \"Their flexible spine enables a longer stride length while running, enhancing speed.\",\n",
      "      \"quality\": 8\n",
      "    }\n",
      "  ],\n",
      "  \"answer\": \"Cheetahs are so fast due to their lightweight body structure, specialized leg muscles, large nostrils for oxygen intake, and a flexible spine that allows for longer strides.\"\n",
      "}\n"
     ]
    }
   ],
   "source": [
    "class SingleReason(pydantic.BaseModel):\n",
    "    \"\"\"This is a single reason and a self-assessment of the quality of the reason.\"\"\"\n",
    "    reason: str = pydantic.Field(description=\"A description of the reason.\")\n",
    "    quality: int = pydantic.Field(description=\"Quality score represented by an integer between 1 and 10.\")\n",
    "\n",
    "class ReasonedResponse3(pydantic.BaseModel):\n",
    "    \"\"\"This is a well-reasoned response.\"\"\"\n",
    "    reasons: list[SingleReason] = pydantic.Field(description=\"Reasons for the answer.\")\n",
    "    answer: str = pydantic.Field(description=\"The answer to the user's question, based on the given reasons and emphsaizing the highest quality reasons.\")\n",
    "\n",
    "sresult = agent.chat_structured('Why are cheetahs so fast?', output_structure=ReasonedResponse3, add_to_history=False)\n",
    "print(sresult.as_json(indent=2))"
   ]
  },
  {
   "cell_type": "markdown",
   "metadata": {},
   "source": [
    "Different approaches for output structures and ordering can lead to vastly different results, so, as with most Generative AI applications, experimentation is essential!"
   ]
  }
 ],
 "metadata": {
  "kernelspec": {
   "display_name": "base",
   "language": "python",
   "name": "python3"
  },
  "language_info": {
   "codemirror_mode": {
    "name": "ipython",
    "version": 3
   },
   "file_extension": ".py",
   "mimetype": "text/x-python",
   "name": "python",
   "nbconvert_exporter": "python",
   "pygments_lexer": "ipython3",
   "version": "3.12.4"
  }
 },
 "nbformat": 4,
 "nbformat_minor": 2
}
