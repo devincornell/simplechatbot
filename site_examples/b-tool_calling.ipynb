{
 "cells": [
  {
   "cell_type": "markdown",
   "metadata": {},
   "source": [
    "# Tool Calling\n",
    "\n",
    "`simplechatbot` empowers chatbot agents with the ability to produce arguments for arbitrary user functions instead of providing a text response to the user's prompt. Using this interface you can enable features such as web searching, email sending/checking, file browsing, image creation, or any other functionality that can be accessed through Python. The LLM will \"decide\" whether and which tools/functions should be executed based on a given prompt, so the key is to use tools with clear and concise instructions.\n",
    "\n",
    "Under the hood, `ChatBot` instances maintain a collection of [langchain tools](https://python.langchain.com/docs/how_to/#tools) which can be extracted from toolkits or even factory methods that accept the chatbot itself as a parameter. Tools may also be added at the time of LLM execution to enable dynamic systems of available tools.\n",
    "\n",
    "You can create your own [custom tools](https://python.langchain.com/docs/how_to/custom_tools/) or choose from [Langchain's built-in tools](https://python.langchain.com/docs/integrations/tools/). I will use `FileManagementToolkit` for demonstration purposes here."
   ]
  },
  {
   "cell_type": "code",
   "execution_count": 1,
   "metadata": {},
   "outputs": [],
   "source": [
    "import sys\n",
    "sys.path.append('..')\n",
    "\n",
    "import simplechatbot\n",
    "from simplechatbot.openai import OpenAIChatBot"
   ]
  },
  {
   "cell_type": "markdown",
   "metadata": {},
   "source": [
    "## Enabling Tools\n",
    "Start by creating a new example tool that can enables the LLM to check email for the user. We create this tool using the `@langchain_core.tools.tool` decorator."
   ]
  },
  {
   "cell_type": "code",
   "execution_count": 2,
   "metadata": {},
   "outputs": [],
   "source": [
    "import langchain_core.tools\n",
    "\n",
    "@langchain_core.tools.tool\n",
    "def check_new_messages() -> str:\n",
    "    '''Check messages.'''\n",
    "    return f'No new messages.'"
   ]
  },
  {
   "cell_type": "markdown",
   "metadata": {},
   "source": [
    "We include this tool as part of the chatbot by passing the function through the `tools` argument."
   ]
  },
  {
   "cell_type": "code",
   "execution_count": 3,
   "metadata": {},
   "outputs": [],
   "source": [
    "keychain = simplechatbot.APIKeyChain.from_json_file('../keys.json')\n",
    "\n",
    "system_prompt = '''\n",
    "You are designed to answer any question the user has and send/check messages if needed.\n",
    "When the user requests you to check your messages, you should display the retrieved messages\n",
    " to the user.\n",
    "'''\n",
    "\n",
    "chatbot = OpenAIChatBot.new(\n",
    "    model_name = 'gpt-4o-mini', \n",
    "    api_key=keychain['openai'],\n",
    "    system_prompt=system_prompt,\n",
    "    tools = [check_new_messages],\n",
    ")"
   ]
  },
  {
   "cell_type": "markdown",
   "metadata": {},
   "source": [
    "Now the LLM will have access to these tools. While the chatbot instance stores the LLM object in the `_model` attribute, you can use `model` to get the LLM with bound tools."
   ]
  },
  {
   "cell_type": "code",
   "execution_count": 4,
   "metadata": {},
   "outputs": [
    {
     "data": {
      "text/plain": [
       "RunnableBinding(bound=ChatOpenAI(client=<openai.resources.chat.completions.Completions object at 0x128006a80>, async_client=<openai.resources.chat.completions.AsyncCompletions object at 0x1280306e0>, root_client=<openai.OpenAI object at 0x10f153a40>, root_async_client=<openai.AsyncOpenAI object at 0x128006ae0>, model_name='gpt-4o-mini', model_kwargs={}, openai_api_key=SecretStr('**********')), kwargs={'tools': [{'type': 'function', 'function': {'name': 'check_new_messages', 'description': 'Check messages.', 'parameters': {'properties': {}, 'type': 'object'}}}]}, config={}, config_factories=[])"
      ]
     },
     "execution_count": 4,
     "metadata": {},
     "output_type": "execute_result"
    }
   ],
   "source": [
    "chatbot.model"
   ]
  },
  {
   "cell_type": "markdown",
   "metadata": {},
   "source": [
    "You can also use the method `get_model_with_tools` to get the tool-bound model with any additional tools. The `invoke`, `stream`, `chat`, and `chat_stream` methods all use this under-the hood so you can add any tools, toolkits, or tool factories to the model at invokation."
   ]
  },
  {
   "cell_type": "code",
   "execution_count": 5,
   "metadata": {},
   "outputs": [
    {
     "data": {
      "text/plain": [
       "(RunnableBinding(bound=ChatOpenAI(client=<openai.resources.chat.completions.Completions object at 0x128006a80>, async_client=<openai.resources.chat.completions.AsyncCompletions object at 0x1280306e0>, root_client=<openai.OpenAI object at 0x10f153a40>, root_async_client=<openai.AsyncOpenAI object at 0x128006ae0>, model_name='gpt-4o-mini', model_kwargs={}, openai_api_key=SecretStr('**********')), kwargs={'tools': [{'type': 'function', 'function': {'name': 'check_new_messages', 'description': 'Check messages.', 'parameters': {'properties': {}, 'type': 'object'}}}]}, config={}, config_factories=[]),\n",
       " ToolLookup(tools={'check_new_messages': StructuredTool(name='check_new_messages', description='Check messages.', args_schema=<class 'langchain_core.utils.pydantic.check_new_messages'>, func=<function check_new_messages at 0x10f957ce0>)}))"
      ]
     },
     "execution_count": 5,
     "metadata": {},
     "output_type": "execute_result"
    }
   ],
   "source": [
    "chatbot.get_model_with_tools(tools=None)"
   ]
  },
  {
   "cell_type": "markdown",
   "metadata": {},
   "source": [
    "Tools will be automatically used when we call any of the invoke or stream methods.\n",
    "\n",
    "Notice that the LLM behaves normally if the user's prompts are unrelated to the tool."
   ]
  },
  {
   "cell_type": "code",
   "execution_count": 6,
   "metadata": {},
   "outputs": [
    {
     "data": {
      "text/plain": [
       "ChatResult(content=Hello! How can I assist you today?, tool_calls=[])"
      ]
     },
     "execution_count": 6,
     "metadata": {},
     "output_type": "execute_result"
    }
   ],
   "source": [
    "chatbot.invoke('Hello world!')"
   ]
  },
  {
   "cell_type": "markdown",
   "metadata": {},
   "source": [
    "If the LLM \"decides\" that the user needs to execute a tool, it returns a tool call as the response instead of returning content."
   ]
  },
  {
   "cell_type": "code",
   "execution_count": 7,
   "metadata": {},
   "outputs": [
    {
     "data": {
      "text/plain": [
       "ChatResult(content=, tool_calls=[ToolCallInfo(id='call_ngajeroEwfXipobUvG6sPNxd', name='check_new_messages', type='tool_call', args={}, tool=StructuredTool(name='check_new_messages', description='Check messages.', args_schema=<class 'langchain_core.utils.pydantic.check_new_messages'>, func=<function check_new_messages at 0x10f957ce0>))])"
      ]
     },
     "execution_count": 7,
     "metadata": {},
     "output_type": "execute_result"
    }
   ],
   "source": [
    "result = chatbot.invoke('Check my messages.')\n",
    "result"
   ]
  },
  {
   "cell_type": "markdown",
   "metadata": {},
   "source": [
    "The tool call information can be accessed through the `ChatResult.tool_calls` attribute, which is simply a list supertype. Use `tool_info_str` to clearly show the arguments being passed to the function."
   ]
  },
  {
   "cell_type": "code",
   "execution_count": 8,
   "metadata": {},
   "outputs": [
    {
     "name": "stdout",
     "output_type": "stream",
     "text": [
      "check_new_messages()\n"
     ]
    }
   ],
   "source": [
    "for tc in result.tool_calls:\n",
    "    print(tc.tool_info_str())"
   ]
  },
  {
   "cell_type": "markdown",
   "metadata": {},
   "source": [
    "You may also provide additional tools at the time of invoking the LLM, and it will be treated as if it was part of the chatbot. \n",
    "\n",
    "In this example, we create a new tool with two arguments that must be provided by the LLM."
   ]
  },
  {
   "cell_type": "code",
   "execution_count": 9,
   "metadata": {},
   "outputs": [
    {
     "data": {
      "text/plain": [
       "ChatResult(content=, tool_calls=[ToolCallInfo(id='call_p4znAVb29LTFT6TF8qnkG1NU', name='send_message', type='tool_call', args={'recipient': 'Bob', 'text': 'Hello!'}, tool=StructuredTool(name='send_message', description='Send messages to others.', args_schema=<class 'langchain_core.utils.pydantic.send_message'>, func=<function send_message at 0x12804bb00>))])"
      ]
     },
     "execution_count": 9,
     "metadata": {},
     "output_type": "execute_result"
    }
   ],
   "source": [
    "@langchain_core.tools.tool\n",
    "def send_message(recipient: str, text: str) -> str:\n",
    "    '''Send messages to others.'''\n",
    "    return f'Message sent!'\n",
    "\n",
    "result = chatbot.invoke('Send a message to Bob saying \"Hello!\"', tools=[send_message])\n",
    "result"
   ]
  },
  {
   "cell_type": "markdown",
   "metadata": {},
   "source": [
    "You can see that the LLM provided the `recipient` and `text` arguments which were passed to the function call information."
   ]
  },
  {
   "cell_type": "code",
   "execution_count": 10,
   "metadata": {},
   "outputs": [
    {
     "data": {
      "text/plain": [
       "'send_message(recipient=Bob, text=Hello!)'"
      ]
     },
     "execution_count": 10,
     "metadata": {},
     "output_type": "execute_result"
    }
   ],
   "source": [
    "result.tool_calls[0].tool_info_str()"
   ]
  },
  {
   "cell_type": "markdown",
   "metadata": {},
   "source": [
    "You can adjust behavior using the `tool_choice` argument in the chatbot constructor or at invokation. The value `'any'` means that a tool MUST be called, but all tools are candidates. The value `'auto'` (the default) allows the LLM to reply with normal content rather than a tool call, and you can also pass the name of a specific function as well."
   ]
  },
  {
   "cell_type": "code",
   "execution_count": 11,
   "metadata": {},
   "outputs": [
    {
     "data": {
      "text/plain": [
       "'check_new_messages()'"
      ]
     },
     "execution_count": 11,
     "metadata": {},
     "output_type": "execute_result"
    }
   ],
   "source": [
    "result = chatbot.invoke('Go to the store for me!', tool_choice='any')\n",
    "result.tool_calls[0].tool_info_str()"
   ]
  },
  {
   "cell_type": "markdown",
   "metadata": {},
   "source": [
    "## Executing Tools\n",
    "Tools allow the LLM to determine if and when to execute tools and also provides parameters for the tool call based on conversation history, but the user containing function is responsible for actually executing the tool with the arguments from the LLM.\n",
    "\n",
    "Use the `execute_tools` method to actually execute the tool, which returns a mapping of tool names to `ToolCallResult` objects."
   ]
  },
  {
   "cell_type": "code",
   "execution_count": 12,
   "metadata": {},
   "outputs": [
    {
     "data": {
      "text/plain": [
       "'check_new_messages()'"
      ]
     },
     "execution_count": 12,
     "metadata": {},
     "output_type": "execute_result"
    }
   ],
   "source": [
    "result = chatbot.invoke('Check my messages.')\n",
    "result.tool_calls[0].tool_info_str()"
   ]
  },
  {
   "cell_type": "code",
   "execution_count": 13,
   "metadata": {},
   "outputs": [
    {
     "data": {
      "text/plain": [
       "{'check_new_messages': ToolCallResult(info=ToolCallInfo(id='call_sOvFP85Zw090E9xin3c74uCl', name='check_new_messages', type='tool_call', args={}, tool=StructuredTool(name='check_new_messages', description='Check messages.', args_schema=<class 'langchain_core.utils.pydantic.check_new_messages'>, func=<function check_new_messages at 0x10f957ce0>)), return_value='No new messages.')}"
      ]
     },
     "execution_count": 13,
     "metadata": {},
     "output_type": "execute_result"
    }
   ],
   "source": [
    "tr = result.execute_tools()\n",
    "tr"
   ]
  },
  {
   "cell_type": "markdown",
   "metadata": {},
   "source": [
    "Get the return value from the tool through the `return_value` property."
   ]
  },
  {
   "cell_type": "code",
   "execution_count": 14,
   "metadata": {},
   "outputs": [
    {
     "data": {
      "text/plain": [
       "'No new messages.'"
      ]
     },
     "execution_count": 14,
     "metadata": {},
     "output_type": "execute_result"
    }
   ],
   "source": [
    "tr['check_new_messages'].return_value"
   ]
  },
  {
   "cell_type": "markdown",
   "metadata": {},
   "source": [
    "Extracting tool calls from a `StreamResult` is a little more complicated because the stream must be exhausted before executing tools. This happens because the tool call information replaces the text response, so the streamer is essentially receiving chunks of the function call information until exhaustion.\n",
    "\n",
    "The calling function must handle both the streamed output and tool calls."
   ]
  },
  {
   "cell_type": "code",
   "execution_count": 15,
   "metadata": {},
   "outputs": [
    {
     "name": "stdout",
     "output_type": "stream",
     "text": [
      "content='' additional_kwargs={'tool_calls': [{'index': 0, 'id': 'call_8MqiTmWRcqC9xjVUqzY1sq2P', 'function': {'arguments': '', 'name': 'check_new_messages'}, 'type': 'function'}]} response_metadata={} id='run-825b8400-30dd-4d02-ac24-47d0cc9c2cac' tool_calls=[{'name': 'check_new_messages', 'args': {}, 'id': 'call_8MqiTmWRcqC9xjVUqzY1sq2P', 'type': 'tool_call'}] tool_call_chunks=[{'name': 'check_new_messages', 'args': '', 'id': 'call_8MqiTmWRcqC9xjVUqzY1sq2P', 'index': 0, 'type': 'tool_call_chunk'}]content='' additional_kwargs={'tool_calls': [{'index': 0, 'id': None, 'function': {'arguments': '{}', 'name': None}, 'type': None}]} response_metadata={} id='run-825b8400-30dd-4d02-ac24-47d0cc9c2cac' tool_calls=[{'name': '', 'args': {}, 'id': None, 'type': 'tool_call'}] tool_call_chunks=[{'name': None, 'args': '{}', 'id': None, 'index': 0, 'type': 'tool_call_chunk'}]content='' additional_kwargs={} response_metadata={'finish_reason': 'tool_calls', 'model_name': 'gpt-4o-mini-2024-07-18', 'system_fingerprint': 'fp_bd83329f63'} id='run-825b8400-30dd-4d02-ac24-47d0cc9c2cac'"
     ]
    }
   ],
   "source": [
    "stream = chatbot.stream('Check my messages.')\n",
    "for r in stream:\n",
    "    print(r, end='', flush=True)\n",
    "if len(stream.tool_calls) > 0:\n",
    "    stream.execute_tools()"
   ]
  },
  {
   "cell_type": "markdown",
   "metadata": {},
   "source": [
    "A `ValueError` will be raised if the caller tries to execute tools before the stream is exhausted."
   ]
  },
  {
   "cell_type": "code",
   "execution_count": 16,
   "metadata": {},
   "outputs": [
    {
     "name": "stdout",
     "output_type": "stream",
     "text": [
      "Exception was caught!\n"
     ]
    }
   ],
   "source": [
    "stream = chatbot.stream('Check my messages.')\n",
    "for r in stream:\n",
    "    print(r.content, end='', flush=True)\n",
    "    break\n",
    "try:\n",
    "    stream.execute_tools()\n",
    "except ValueError as e:\n",
    "    print('Exception was caught!')"
   ]
  },
  {
   "cell_type": "markdown",
   "metadata": {},
   "source": [
    "## Toolkits and Tool Factories\n",
    "\n",
    "Aside from providing a list of tools, you may also bind tools from toolkits and tool factories.\n",
    "\n",
    "+ `ToolKit`: class with a `get_tools() -> list[BaseTool]` method. `ToolKit`s are part of the langchain interface, and the built-in tools often come as a subtype. Passed through the `toolkits: list[BaseToolkit]` argument.\n",
    "\n",
    "+ ***Tool Factories***: functions that accept a chatbot as an argument and return tools. Useful when writing tools that interact with the original LLM because otherwise it would require partial initialization. Passed through the `tool_factories: ToolFactoryType` argument.\n",
    "\n",
    "Note that these too may be provided at instantiation or at invokation.\n",
    "\n",
    "#### `ToolKit` Example\n",
    "\n",
    "In this example, I enable the built-in Langchain `FileManagementToolkit` toolkit to allow the chatbot to list, read, and write files."
   ]
  },
  {
   "cell_type": "code",
   "execution_count": 17,
   "metadata": {},
   "outputs": [
    {
     "name": "stdout",
     "output_type": "stream",
     "text": [
      "list_directory()\n"
     ]
    }
   ],
   "source": [
    "import tempfile\n",
    "from langchain_community.agent_toolkits import FileManagementToolkit\n",
    "with tempfile.TemporaryDirectory() as wd:\n",
    "    file_tk = FileManagementToolkit(root_dir=str(wd))\n",
    "    result = chatbot.invoke('List the files in this directory.', toolkits=[file_tk])\n",
    "    print(result.tool_calls[0].tool_info_str())"
   ]
  },
  {
   "cell_type": "markdown",
   "metadata": {},
   "source": [
    "#### Tool Factory Examples\n",
    "Now I create a tool factory that can be passed to the chatbot. This tool uses the chatbot reference to invoke the LLM with access to all of the same tools."
   ]
  },
  {
   "cell_type": "code",
   "execution_count": 18,
   "metadata": {},
   "outputs": [
    {
     "data": {
      "text/plain": [
       "'In the dusty town of Dry Gulch, the sun hung low in the sky, casting long shadows over the wooden saloons and weathered storefronts. The air was thick with the scent of leather and gunpowder, a reminder of the untamed land that surrounded the settlement. It was here that two rival cowboys, Jake “Iron” McGraw and Sam “Quickshot” Riley, were destined to cross paths.\\n\\nJake was known for his iron will and unmatched strength, while Sam earned his reputation as the fastest draw in the West. Their rivalry had begun years ago over a beautiful saloon owner, Clara, who had captured both their hearts with her fiery spirit. But Clara had made her choice, and it only intensified the flames of their competition.\\n\\nOne fateful afternoon, the townsfolk gathered in the dusty square, whispering tales of the upcoming showdown. With the sun dipping low, casting a golden hue over the landscape, Jake and Sam faced each other, eyes locked in a battle of wills. The tension was palpable, and the crowd held its breath.\\n\\n“Today, we settle this once and for all,” Jake growled, his hand hovering near his holster. Sam smirked, confidence radiating from him. “I’ve been waiting for this, Iron. Let’s see if you can keep up.”\\n\\nWith a single, thunderous clap of thunder, the duel began. Dust swirled around them as they moved like lightning, drawing their guns in a heartbeat. Shots rang out, echoing across the canyon. But in a twist of fate, both cowboys hesitated, their eyes catching Clara’s pleading gaze from the crowd.\\n\\nIn that moment, they realized the futility of their rivalry. The guns lowered, and silence fell. Clara rushed forward, tears in her eyes. “Enough! This isn’t what I wanted!”\\n\\nWith a shared look of understanding, Jake and Sam holstered their weapons. They turned to Clara, and together, they walked away from the battlefield, leaving behind the echoes of their past and forging a new path of friendship. The sun set over Dry Gulch, casting a warm glow as the three of them rode into the horizon, united against the world.'"
      ]
     },
     "execution_count": 18,
     "metadata": {},
     "output_type": "execute_result"
    }
   ],
   "source": [
    "\n",
    "def my_tool_factory(chatbot: simplechatbot.ChatBot) -> list[langchain_core.tools.Tool]:\n",
    "    @langchain_core.tools.tool\n",
    "    def story_generator(topic: str) -> str:\n",
    "        '''Generate a story absed on a particular topic.'''\n",
    "        result = chatbot.invoke(\n",
    "            f'Generate a story about {topic}. Your response should only include the text of the story and make it short but engaging.',\n",
    "        )\n",
    "        return result.content\n",
    "\n",
    "    return [story_generator]\n",
    "\n",
    "result = chatbot.invoke('Generate a story about western cowboys.', tool_factories=[my_tool_factory])\n",
    "tc_result = result.execute_tools()\n",
    "tc_result['story_generator'].return_value"
   ]
  },
  {
   "cell_type": "markdown",
   "metadata": {},
   "source": [
    "## Conclusions\n",
    "That is all! Now you know how to enable and disable tools that your LLM can use to do anything!"
   ]
  }
 ],
 "metadata": {
  "kernelspec": {
   "display_name": "base",
   "language": "python",
   "name": "python3"
  },
  "language_info": {
   "codemirror_mode": {
    "name": "ipython",
    "version": 3
   },
   "file_extension": ".py",
   "mimetype": "text/x-python",
   "name": "python",
   "nbconvert_exporter": "python",
   "pygments_lexer": "ipython3",
   "version": "3.12.4"
  }
 },
 "nbformat": 4,
 "nbformat_minor": 2
}
