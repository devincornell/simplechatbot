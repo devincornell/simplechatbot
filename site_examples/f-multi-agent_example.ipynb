{
 "cells": [
  {
   "cell_type": "markdown",
   "metadata": {},
   "source": [
    "# Multi-agent Examples\n",
    "\n",
    "In this example I show an example of an agent that writes a story using a series of steps.\n",
    "\n",
    "1. The user provides an idea for their story.\n",
    "2. The `Outline Bot` generates an outline for the story including section titles and descriptions.\n",
    "3. The first section content is created by the `Story Bot` from section title/description and the overall story description.\n",
    "4. The `Summary Bot` creates a summary of the newly generated chapter.\n",
    "5. The section summary is passed to the `Story Bot` along with section title/description to generate the next section.\n",
    "6. All sections follow steps 3-5.\n",
    "...\n",
    "7. The sections are combined into a full story.\n",
    "\n",
    "![Story bot design diagram](https://storage.googleapis.com/public_data_09324832787/story_bot_design.svg)"
   ]
  },
  {
   "cell_type": "code",
   "execution_count": null,
   "metadata": {},
   "outputs": [],
   "source": [
    "import pydantic\n",
    "import typing\n",
    "\n",
    "import sys\n",
    "sys.path.append('../src/')\n",
    "\n",
    "import simplechatbot\n",
    "from simplechatbot.openai_agent import OpenAIAgent"
   ]
  },
  {
   "cell_type": "markdown",
   "metadata": {},
   "source": [
    "First I create a new chatbot from OpenAI using the API stored in the keychain file.\n",
    "\n",
    "I also create a new function `stream_it` that prints the result from the LLM as it is received and returns the full result of the LLM call."
   ]
  },
  {
   "cell_type": "code",
   "execution_count": null,
   "metadata": {},
   "outputs": [],
   "source": [
    "keychain = simplechatbot.APIKeyChain.from_json_file('../keys.json')\n",
    "base_agent = OpenAIAgent.new(\n",
    "    model_name = 'gpt-4o-mini', \n",
    "    api_key=keychain['openai'],\n",
    ")"
   ]
  },
  {
   "cell_type": "markdown",
   "metadata": {},
   "source": [
    "Next we need to direct the LLM to create an outline for the story. I do this by creating a system prompt describing the task of creating an outline and a pydantic class to direct the LLM on how to structure its response. This is important because the output of the outline bot will be used for generating chapters."
   ]
  },
  {
   "cell_type": "code",
   "execution_count": null,
   "metadata": {},
   "outputs": [
    {
     "name": "stdout",
     "output_type": "stream",
     "text": [
      "topic: Rekindling a Friendship\n",
      "\n",
      "The Innocent Bond: In a small town, two children, Mia and Jake, form a deep bond during summer vacations. They share adventures, secrets, and dreams, making a pact to always stay friends. However, as they grow older, Mia moves away, and they lose touch. The chapter ends with Mia looking back at old photos, reminiscing about the carefree days of their friendship and wondering how Jake is doing.\n",
      "\n",
      "A Chance Encounter: Years later, Mia returns to her hometown for a wedding. On the night of the event, she unexpectedly runs into Jake, who hasn't changed much but feels like a stranger. Their initial conversation is awkward, filled with nostalgia and uncertainty. But as the night unfolds, they find common ground in shared memories. They agree to grab coffee the next day to catch up, both feeling a mix of excitement and anxiety about seeing each other after so long.\n",
      "\n",
      "Rebuilding the Past: During coffee, Mia and Jake navigate the complexities of their adult lives, revealing new aspects of their personalities that have developed separately. They reminisce about the past but also confront the differences that have emerged over the years. Misunderstandings arise but are resolved through open communication, leading to a rekindling of their friendship. The chapter ends with both feeling hopeful but uncertain about what the future holds for their relationship.\n"
     ]
    }
   ],
   "source": [
    "class StoryOutline(pydantic.BaseModel):\n",
    "    \"\"\"Outline of the story.\"\"\"\n",
    "\n",
    "    story_topic: str = pydantic.Field(description=\"The topic of the story.\")\n",
    "\n",
    "    part1_title: str = pydantic.Field(description=\"Title of Part 1 of the story.\")\n",
    "    part1_description: str = pydantic.Field(description=\"Longer description of part 1.\")\n",
    "\n",
    "    part2_title: str = pydantic.Field(description=\"Title of Part 2 of the story.\")\n",
    "    part2_description: str = pydantic.Field(description=\"Longer description of part 2.\")\n",
    "\n",
    "    part3_title: str = pydantic.Field(description=\"Title of Part 3 of the story.\")\n",
    "    part3_description: str = pydantic.Field(description=\"Longer description of part 3.\")\n",
    "\n",
    "    def outline_str(self) -> str:\n",
    "        return f'topic: {self.story_topic}\\n\\n{self.part1_title}: {self.part1_description}\\n\\n{self.part2_title}: {self.part2_description}\\n\\n{self.part3_title}: {self.part3_description}'\n",
    "\n",
    "\n",
    "class OutlineBot:\n",
    "    system_prompt = (\n",
    "        \"The user will provide you a description of a story, and you must create a chapter outline with titles and brief descriptions. \"\n",
    "        \"Each section should contain a title and a brief description of what happens in that section. \"\n",
    "        \"The sections should all be part of a single narrative ark, but each section should have a complete beginning, middle, and end. \"\n",
    "    )\n",
    "    def __init__(self, base_agent: simplechatbot.Agent):\n",
    "        self.agent = base_agent.new_agent_from_model(\n",
    "            system_prompt=self.system_prompt,\n",
    "        )\n",
    "\n",
    "    def create_outline(self, story_description: str) -> StoryOutline:\n",
    "        return self.agent.chat_structured(story_description, output_structure=StoryOutline).data\n",
    "\n",
    "outline_bot = OutlineBot(base_agent)\n",
    "\n",
    "q = f'Write an outline for a story about two friends who met when they were young and then lost touch. They meet again as adults and have to navigate their new relationship.'\n",
    "outline: StoryOutline = outline_bot.create_outline(q)\n",
    "print(outline.outline_str())"
   ]
  },
  {
   "cell_type": "markdown",
   "metadata": {},
   "source": [
    "Next we create a bot that will generate the actual chapter content based on information generated in the outline and a summary of the previous chapter (if one exists)."
   ]
  },
  {
   "cell_type": "code",
   "execution_count": null,
   "metadata": {},
   "outputs": [],
   "source": [
    "class ChapterBot:\n",
    "    system_prompt = (\n",
    "        \"You are designed to write a single chapter of a larger story based on the following information: \\n\\n\"\n",
    "        \"+ Overall story topic: The topic of the full story.\\n\"\n",
    "        \"+ Chapter title: The title of the section you are writing.\\n\"\n",
    "        \"+ Chapter description: A longer description of what happens in the section.\\n\"\n",
    "        \"+ (optional) previous chapter summary: A summary of the previous chapter.\\n\"\n",
    "        \"Your responses should only include text that is part of the story. Do not include the chapter title \\n\"\n",
    "        \"or any other information that is not part of the story itself.\\n\"\n",
    "        \"The story chapter should be super short, so keep that in mind!\"\n",
    "    )\n",
    "\n",
    "    def __init__(self, base_agent: simplechatbot.Agent):\n",
    "        self.agent = base_agent.new_agent_from_model(\n",
    "            system_prompt=self.system_prompt,\n",
    "        )\n",
    "\n",
    "    def write_chapter(\n",
    "        self,\n",
    "        story_topic: str,\n",
    "        chapter_title: str,\n",
    "        chapter_description: str,\n",
    "        previous_chapter_summary: typing.Optional[str] = None,\n",
    "    ) -> str:\n",
    "        prompt = (\n",
    "            f'General story topic: \"{story_topic}\"\\n\\n'\n",
    "            f'Section title: \"{chapter_title}\"\\n\\n'\n",
    "            f'Description: \"{chapter_description}\"\\n\\n'\n",
    "            f'Previous chapter summary: \"{previous_chapter_summary if previous_chapter_summary is not None else \"No previous chapter - this is the first!\"}\"'\n",
    "        )\n",
    "        return self.agent.stream(prompt, add_to_history=False).print_and_collect().content\n",
    "\n",
    "chapter_bot = ChapterBot(base_agent)"
   ]
  },
  {
   "cell_type": "markdown",
   "metadata": {},
   "source": [
    "Now we actually create the chatper using the prompt."
   ]
  },
  {
   "cell_type": "code",
   "execution_count": 5,
   "metadata": {},
   "outputs": [
    {
     "name": "stdout",
     "output_type": "stream",
     "text": [
      "The sun-drenched days of summer blended into a tapestry of laughter and adventure for Mia and Jake. Their small town, a canvas of vibrant colors and warm breezes, became the backdrop for their blossoming friendship. \n",
      "\n",
      "They often met at the old oak tree, its branches spreading wide like welcoming arms, where they shared whispered secrets and dreams of the future. One day, they painstakingly crafted a treasure map from an old cereal box, declaring their mission to find hidden gems in the nearby woods. With their imaginations running wild, they transformed fallen twigs into swords, prowled like pirates, and crowned each other as guardians of their secret world. \n",
      "\n",
      "Mia would sometimes pull out her worn notebook, filled with sketches of their adventures, while Jake would recount tales of daring knights and fearless dragons. They made a pact—an earnest promise to always stay friends—each believing their bond was unbreakable.\n",
      "\n",
      "Then, as summer slipped away and the cold winds of fate began to blow, Mia's family received the news. They were moving, a change that echoed with uncertainty and sadness. On the night before her departure, they sat under the stars, their hearts heavy with unspoken fears. Mia held Jake's hand tightly, sealing their pact with a desperate wish that distance would never come between them.\n",
      "\n",
      "Years passed like fluttering leaves in the autumn breeze. Mia moved to a place where everything felt foreign. New friends filled her days, but the whispers of that innocent bond lingered in the corners of her heart. One quiet evening, feeling nostalgic, she rummaged through a box of memories. \n",
      "\n",
      "As she pulled out old photographs, the vibrant summer days unfolded before her eyes. There they were, sunlight dancing off their smiles, the world their playground. She paused at a picture where they both grinned widely, remnants of mud smeared on their cheeks from a day spent crafting makeshift capes in the backyard, imaginations soaring.\n",
      "\n",
      "Mia’s heart tightened as she wondered where Jake was now, if he recalled their pact, the whispers of their carefree laughter carried by the winds through the years. In that moment, she realized that though miles apart, the bond they forged during those innocent days still held a spark of hope, waiting to be rekindled."
     ]
    }
   ],
   "source": [
    "chapter1 = chapter_bot.write_chapter(outline.story_topic, outline.part1_title, outline.part1_description)"
   ]
  },
  {
   "cell_type": "markdown",
   "metadata": {},
   "source": [
    "Next I create a bot that will summarize a chapter. We will eventually feed this into the creation of chapter 2."
   ]
  },
  {
   "cell_type": "code",
   "execution_count": null,
   "metadata": {},
   "outputs": [],
   "source": [
    "class SummaryBot:\n",
    "    system_prompt = (\n",
    "        'You need to create a summary of the story chapter provided to you by the user. '\n",
    "        'The summary should include names of relevant characters and capture the story arc of the chapter. '\n",
    "    )\n",
    "\n",
    "    def __init__(self, base_agent: simplechatbot.Agent):\n",
    "        self.agent = base_agent.new_agent_from_model(\n",
    "            system_prompt=self.system_prompt,\n",
    "        )\n",
    "\n",
    "    def summarize(\n",
    "        self,\n",
    "        chapter_text: str,\n",
    "    ) -> str:\n",
    "        prompt = (\n",
    "            f'Chapter text:\\n\\n{chapter_text}'\n",
    "        )\n",
    "        return self.agent.stream(prompt, add_to_history=False).print_and_collect().content\n",
    "\n",
    "summary_bot = SummaryBot(base_agent)"
   ]
  },
  {
   "cell_type": "code",
   "execution_count": 7,
   "metadata": {},
   "outputs": [
    {
     "name": "stdout",
     "output_type": "stream",
     "text": [
      "In this poignant chapter, we follow Mia and Jake, two friends who share a magical summer filled with adventures in their small town. Their friendship flourishes at the old oak tree, where they craft a treasure map and transform their imaginations into a world of pirates, knights, and dreams. They create a pact to always remain friends, believing their bond is unbreakable.\n",
      "\n",
      "However, their idyllic summer comes to an abrupt end when Mia's family announces they are moving away, leading to a heart-wrenching farewell under the starlit sky. Mia and Jake hold hands tightly, each silently wishing that distance would not diminish their friendship.\n",
      "\n",
      "As the years progress, Mia finds herself in a new, foreign place, making new friends but often reminiscing about her time with Jake. One evening, she discovers a box of memories, pulling out old photographs that remind her of their joyful days together. Reflecting on their shared adventures and the special bond they created, Mia wonders if Jake still remembers their pact. The chapter concludes with a sense of nostalgia and hope, highlighting that despite the miles between them, the spark of their friendship still glows, waiting for a chance to reignite."
     ]
    }
   ],
   "source": [
    "ch1_summary = summary_bot.summarize(chapter1)"
   ]
  },
  {
   "cell_type": "markdown",
   "metadata": {},
   "source": [
    "Now we actually generate the second chapter using the outline and the previous chapter summary."
   ]
  },
  {
   "cell_type": "code",
   "execution_count": 8,
   "metadata": {},
   "outputs": [
    {
     "name": "stdout",
     "output_type": "stream",
     "text": [
      "Mia stepped out of the wedding venue, the soft glow of string lights illuminating the night as laughter and music floated through the air. She wrapped her shawl tighter around her shoulders, feeling a chill that had nothing to do with the evening breeze. It was a night of joy, yet a weight settled in her chest as she navigated the familiar streets of her hometown. \n",
      "\n",
      "Suddenly, she spotted him across the courtyard – Jake, leaning casually against a pillar, his tall frame and easy smile still as comforting as she remembered. The years melted into the background as their eyes locked, and it felt as if time had rewound to that summer when everything was simple. But beneath the familiarity lay an awkwardness; he was a stranger now, the miles between them stretching wider than she’d anticipated. \n",
      "\n",
      "“Jake?” Mia called out, her voice barely cutting through the thrum of the festivities. \n",
      "\n",
      "“Mia!” he responded, his surprise mirrored in his bright eyes. He stepped forward, hands shoved in his pockets. “Wow, it’s been… what? Nearly a decade?”\n",
      "\n",
      "“Yeah, something like that.” She chuckled nervously, glancing away. “You look… well, the same.”\n",
      "\n",
      "He laughed, a sound that tugged at her heart, but it felt different this time — tinged with a hint of uncertainty. “And you still have that same spark,” he replied, though just as quickly as the words left his mouth, his expression faltered. “How’s life been?”\n",
      "\n",
      "They each began to share snippets of their lives, awkward pauses punctuating their conversation. The nostalgia laced their exchanges, memories of childhood adventures swirling around them. “Do you remember that treasure map we made?” Mia asked, a smile creeping onto her face.\n",
      "\n",
      "Jake’s face lit up. “Of course. We thought we were real pirates.” \n",
      "\n",
      "The moment drew them closer, their shared laughter echoing in the night. As they reminisced, the tension melted away, and a flicker of connection sparked anew. Their hearts raced with an unspoken agreement: they wouldn’t let this chance pass by. \n",
      "\n",
      "“How about we grab coffee tomorrow?” Mia suggested, holding her breath as she waited for his response.\n",
      "\n",
      "“Yeah, I’d like that,” Jake replied, his smile returning with a hint of warmth. \n",
      "\n",
      "As they parted ways, a mix of excitement and anxiety washed over Mia. She watched him walk back into the crowd, feeling a renewed sense of hope. Perhaps this was the beginning of rekindling what they had lost, a chance to mend the spaces that distance had created."
     ]
    }
   ],
   "source": [
    "chapter2 = chapter_bot.write_chapter(outline.story_topic, outline.part2_title, outline.part2_description, ch1_summary)"
   ]
  },
  {
   "cell_type": "markdown",
   "metadata": {},
   "source": [
    "Create a summary for chapter 2 now."
   ]
  },
  {
   "cell_type": "code",
   "execution_count": 9,
   "metadata": {},
   "outputs": [
    {
     "name": "stdout",
     "output_type": "stream",
     "text": [
      "In this chapter, Mia finds herself stepping out of a wedding venue, overwhelmed by a mix of joy and nostalgia. As she walks through her hometown, she unexpectedly encounters Jake, her childhood friend and first love, who she hasn't seen in nearly a decade. Their initial interaction is filled with awkwardness and familiarity, highlighting the emotional distance that time and circumstances have created between them. \n",
      "\n",
      "They engage in small talk, reminiscing about their childhood adventures, such as creating a treasure map, which leads to laughter and a rekindling of their connection. Despite the years apart, they quickly find common ground, indicating an enduring bond beneath the surface. As Mia suggests meeting for coffee the next day, both characters sense a hopeful opportunity to explore what could be a revival of their relationship. The chapter concludes with Mia feeling a renewed sense of hope for the future as she watches Jake disappear back into the crowd, hinting at the possibility of mending the gaps that time had widened between them."
     ]
    }
   ],
   "source": [
    "ch2_summary = summary_bot.summarize(chapter2)"
   ]
  },
  {
   "cell_type": "markdown",
   "metadata": {},
   "source": [
    "Use the summary of chapter 2 and outline information to create chapter 3."
   ]
  },
  {
   "cell_type": "code",
   "execution_count": 10,
   "metadata": {},
   "outputs": [
    {
     "name": "stdout",
     "output_type": "stream",
     "text": [
      "The coffee shop smelled of roasted beans and sweet pastries, a familiar scent that enveloped Mia as she entered, her heart racing with anticipation. She spotted Jake at a corner table, his back straight, absorbed in a steaming mug. Memories flooded her as she approached—of painting their childhood treehouse and sharing secrets under the stars.\n",
      "\n",
      "“Hey,” she said, her voice barely above a whisper. \n",
      "\n",
      "He looked up, his expression brightening. “Hey, you made it.”\n",
      "\n",
      "They exchanged warm smiles, feeling the shock of re-encounter fade, replaced by a comfortable, yet cautious atmosphere. As they sipped their coffees, the conversation flowed from light-hearted banter to deeper confessions. Mia shared tales of her career struggles, and Jake spoke of unpredictable travel adventures. \n",
      "\n",
      "“Remember the treasure map we made?” Mia chuckled, attempting to bridge any lingering gaps, her fingers tracing the rim of her cup.\n",
      "\n",
      "Jake laughed, a sound that reminded her of so many summers spent laughing together. “Yeah, and how we never found anything but those old coins?”\n",
      "\n",
      "A moment of silence lingered as they both realized how their paths have diverged since those days—her commitment to a steady job, his penchant for spontaneity. Tension arose as they stumbled into differences: Jake’s love for risk clashed with Mia’s yearning for stability.\n",
      "\n",
      "“This is nice, but…” Mia hesitated, searching for the right words, “could we talk about how life has changed us?”\n",
      "\n",
      "He nodded, looking serious for a moment. Misunderstandings emerged as they aired out old grievances—miscommunication that had haunted their friendship for years.\n",
      "\n",
      "“I thought you were mad at me for leaving,” Jake admitted, running a hand through his hair.\n",
      "\n",
      "“I was just scared of losing you,” Mia replied, her voice trembling slightly. They both took deep breaths, the tension easing as honesty laid the groundwork for rebuilding.\n",
      "\n",
      "With each revelation, walls crumbled, revealing the roots of their companionship buried beneath soil and time. They embraced vulnerability, each apology serving as both an acknowledgment of the past and a guide forward.\n",
      "\n",
      "They left the coffee shop with that same hopeful feeling—a cautious optimism decorating the edges of their hearts. As Mia turned to look at Jake one last time before parting ways, a sense of uncertainty lingered in the air. Would this be the beginning of something new, or merely a fleeting spark?"
     ]
    }
   ],
   "source": [
    "chapter3 = chapter_bot.write_chapter(outline.story_topic, outline.part3_title, outline.part3_description, ch2_summary)"
   ]
  },
  {
   "cell_type": "markdown",
   "metadata": {},
   "source": [
    "And now we can review the full text of the book."
   ]
  },
  {
   "cell_type": "code",
   "execution_count": 11,
   "metadata": {},
   "outputs": [
    {
     "name": "stdout",
     "output_type": "stream",
     "text": [
      "('\\n'\n",
      " '\\n'\n",
      " 'Overview: Rekindling a Friendship\\n'\n",
      " '\\n'\n",
      " '== Chapter 1: The Innocent Bond ==\\n'\n",
      " '\\n'\n",
      " 'The sun-drenched days of summer blended into a tapestry of laughter and '\n",
      " 'adventure for Mia and Jake. Their small town, a canvas of vibrant colors and '\n",
      " 'warm breezes, became the backdrop for their blossoming friendship. \\n'\n",
      " '\\n'\n",
      " 'They often met at the old oak tree, its branches spreading wide like '\n",
      " 'welcoming arms, where they shared whispered secrets and dreams of the '\n",
      " 'future. One day, they painstakingly crafted a treasure map from an old '\n",
      " 'cereal box, declaring their mission to find hidden gems in the nearby woods. '\n",
      " 'With their imaginations running wild, they transformed fallen twigs into '\n",
      " 'swords, prowled like pirates, and crowned each other as guardians of their '\n",
      " 'secret world. \\n'\n",
      " '\\n'\n",
      " 'Mia would sometimes pull out her worn notebook, filled with sketches of '\n",
      " 'their adventures, while Jake would recount tales of daring knights and '\n",
      " 'fearless dragons. They made a pact—an earnest promise to always stay '\n",
      " 'friends—each believing their bond was unbreakable.\\n'\n",
      " '\\n'\n",
      " \"Then, as summer slipped away and the cold winds of fate began to blow, Mia's \"\n",
      " 'family received the news. They were moving, a change that echoed with '\n",
      " 'uncertainty and sadness. On the night before her departure, they sat under '\n",
      " \"the stars, their hearts heavy with unspoken fears. Mia held Jake's hand \"\n",
      " 'tightly, sealing their pact with a desperate wish that distance would never '\n",
      " 'come between them.\\n'\n",
      " '\\n'\n",
      " 'Years passed like fluttering leaves in the autumn breeze. Mia moved to a '\n",
      " 'place where everything felt foreign. New friends filled her days, but the '\n",
      " 'whispers of that innocent bond lingered in the corners of her heart. One '\n",
      " 'quiet evening, feeling nostalgic, she rummaged through a box of memories. \\n'\n",
      " '\\n'\n",
      " 'As she pulled out old photographs, the vibrant summer days unfolded before '\n",
      " 'her eyes. There they were, sunlight dancing off their smiles, the world '\n",
      " 'their playground. She paused at a picture where they both grinned widely, '\n",
      " 'remnants of mud smeared on their cheeks from a day spent crafting makeshift '\n",
      " 'capes in the backyard, imaginations soaring.\\n'\n",
      " '\\n'\n",
      " 'Mia’s heart tightened as she wondered where Jake was now, if he recalled '\n",
      " 'their pact, the whispers of their carefree laughter carried by the winds '\n",
      " 'through the years. In that moment, she realized that though miles apart, the '\n",
      " 'bond they forged during those innocent days still held a spark of hope, '\n",
      " 'waiting to be rekindled.\\n'\n",
      " '\\n'\n",
      " '\\n'\n",
      " '== Chapter 2: A Chance Encounter ==\\n'\n",
      " '\\n'\n",
      " 'Mia stepped out of the wedding venue, the soft glow of string lights '\n",
      " 'illuminating the night as laughter and music floated through the air. She '\n",
      " 'wrapped her shawl tighter around her shoulders, feeling a chill that had '\n",
      " 'nothing to do with the evening breeze. It was a night of joy, yet a weight '\n",
      " 'settled in her chest as she navigated the familiar streets of her '\n",
      " 'hometown. \\n'\n",
      " '\\n'\n",
      " 'Suddenly, she spotted him across the courtyard – Jake, leaning casually '\n",
      " 'against a pillar, his tall frame and easy smile still as comforting as she '\n",
      " 'remembered. The years melted into the background as their eyes locked, and '\n",
      " 'it felt as if time had rewound to that summer when everything was simple. '\n",
      " 'But beneath the familiarity lay an awkwardness; he was a stranger now, the '\n",
      " 'miles between them stretching wider than she’d anticipated. \\n'\n",
      " '\\n'\n",
      " '“Jake?” Mia called out, her voice barely cutting through the thrum of the '\n",
      " 'festivities. \\n'\n",
      " '\\n'\n",
      " '“Mia!” he responded, his surprise mirrored in his bright eyes. He stepped '\n",
      " 'forward, hands shoved in his pockets. “Wow, it’s been… what? Nearly a '\n",
      " 'decade?”\\n'\n",
      " '\\n'\n",
      " '“Yeah, something like that.” She chuckled nervously, glancing away. “You '\n",
      " 'look… well, the same.”\\n'\n",
      " '\\n'\n",
      " 'He laughed, a sound that tugged at her heart, but it felt different this '\n",
      " 'time — tinged with a hint of uncertainty. “And you still have that same '\n",
      " 'spark,” he replied, though just as quickly as the words left his mouth, his '\n",
      " 'expression faltered. “How’s life been?”\\n'\n",
      " '\\n'\n",
      " 'They each began to share snippets of their lives, awkward pauses punctuating '\n",
      " 'their conversation. The nostalgia laced their exchanges, memories of '\n",
      " 'childhood adventures swirling around them. “Do you remember that treasure '\n",
      " 'map we made?” Mia asked, a smile creeping onto her face.\\n'\n",
      " '\\n'\n",
      " 'Jake’s face lit up. “Of course. We thought we were real pirates.” \\n'\n",
      " '\\n'\n",
      " 'The moment drew them closer, their shared laughter echoing in the night. As '\n",
      " 'they reminisced, the tension melted away, and a flicker of connection '\n",
      " 'sparked anew. Their hearts raced with an unspoken agreement: they wouldn’t '\n",
      " 'let this chance pass by. \\n'\n",
      " '\\n'\n",
      " '“How about we grab coffee tomorrow?” Mia suggested, holding her breath as '\n",
      " 'she waited for his response.\\n'\n",
      " '\\n'\n",
      " '“Yeah, I’d like that,” Jake replied, his smile returning with a hint of '\n",
      " 'warmth. \\n'\n",
      " '\\n'\n",
      " 'As they parted ways, a mix of excitement and anxiety washed over Mia. She '\n",
      " 'watched him walk back into the crowd, feeling a renewed sense of hope. '\n",
      " 'Perhaps this was the beginning of rekindling what they had lost, a chance to '\n",
      " 'mend the spaces that distance had created.\\n'\n",
      " '\\n'\n",
      " '\\n'\n",
      " '== Chapter 3: Rebuilding the Past ==\\n'\n",
      " '\\n'\n",
      " 'The coffee shop smelled of roasted beans and sweet pastries, a familiar '\n",
      " 'scent that enveloped Mia as she entered, her heart racing with anticipation. '\n",
      " 'She spotted Jake at a corner table, his back straight, absorbed in a '\n",
      " 'steaming mug. Memories flooded her as she approached—of painting their '\n",
      " 'childhood treehouse and sharing secrets under the stars.\\n'\n",
      " '\\n'\n",
      " '“Hey,” she said, her voice barely above a whisper. \\n'\n",
      " '\\n'\n",
      " 'He looked up, his expression brightening. “Hey, you made it.”\\n'\n",
      " '\\n'\n",
      " 'They exchanged warm smiles, feeling the shock of re-encounter fade, replaced '\n",
      " 'by a comfortable, yet cautious atmosphere. As they sipped their coffees, the '\n",
      " 'conversation flowed from light-hearted banter to deeper confessions. Mia '\n",
      " 'shared tales of her career struggles, and Jake spoke of unpredictable travel '\n",
      " 'adventures. \\n'\n",
      " '\\n'\n",
      " '“Remember the treasure map we made?” Mia chuckled, attempting to bridge any '\n",
      " 'lingering gaps, her fingers tracing the rim of her cup.\\n'\n",
      " '\\n'\n",
      " 'Jake laughed, a sound that reminded her of so many summers spent laughing '\n",
      " 'together. “Yeah, and how we never found anything but those old coins?”\\n'\n",
      " '\\n'\n",
      " 'A moment of silence lingered as they both realized how their paths have '\n",
      " 'diverged since those days—her commitment to a steady job, his penchant for '\n",
      " 'spontaneity. Tension arose as they stumbled into differences: Jake’s love '\n",
      " 'for risk clashed with Mia’s yearning for stability.\\n'\n",
      " '\\n'\n",
      " '“This is nice, but…” Mia hesitated, searching for the right words, “could we '\n",
      " 'talk about how life has changed us?”\\n'\n",
      " '\\n'\n",
      " 'He nodded, looking serious for a moment. Misunderstandings emerged as they '\n",
      " 'aired out old grievances—miscommunication that had haunted their friendship '\n",
      " 'for years.\\n'\n",
      " '\\n'\n",
      " '“I thought you were mad at me for leaving,” Jake admitted, running a hand '\n",
      " 'through his hair.\\n'\n",
      " '\\n'\n",
      " '“I was just scared of losing you,” Mia replied, her voice trembling '\n",
      " 'slightly. They both took deep breaths, the tension easing as honesty laid '\n",
      " 'the groundwork for rebuilding.\\n'\n",
      " '\\n'\n",
      " 'With each revelation, walls crumbled, revealing the roots of their '\n",
      " 'companionship buried beneath soil and time. They embraced vulnerability, '\n",
      " 'each apology serving as both an acknowledgment of the past and a guide '\n",
      " 'forward.\\n'\n",
      " '\\n'\n",
      " 'They left the coffee shop with that same hopeful feeling—a cautious optimism '\n",
      " 'decorating the edges of their hearts. As Mia turned to look at Jake one last '\n",
      " 'time before parting ways, a sense of uncertainty lingered in the air. Would '\n",
      " 'this be the beginning of something new, or merely a fleeting spark?\\n'\n",
      " '\\n')\n"
     ]
    }
   ],
   "source": [
    "story = f'''\n",
    "\n",
    "Overview: {outline.story_topic}\n",
    "\n",
    "== Chapter 1: {outline.part1_title} ==\n",
    "\n",
    "{chapter1}\n",
    "\n",
    "\n",
    "== Chapter 2: {outline.part2_title} ==\n",
    "\n",
    "{chapter2}\n",
    "\n",
    "\n",
    "== Chapter 3: {outline.part3_title} ==\n",
    "\n",
    "{chapter3}\n",
    "\n",
    "'''\n",
    "\n",
    "import pprint\n",
    "pprint.pprint(story)"
   ]
  }
 ],
 "metadata": {
  "kernelspec": {
   "display_name": "base",
   "language": "python",
   "name": "python3"
  },
  "language_info": {
   "codemirror_mode": {
    "name": "ipython",
    "version": 3
   },
   "file_extension": ".py",
   "mimetype": "text/x-python",
   "name": "python",
   "nbconvert_exporter": "python",
   "pygments_lexer": "ipython3",
   "version": "3.12.4"
  }
 },
 "nbformat": 4,
 "nbformat_minor": 2
}
