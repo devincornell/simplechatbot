{
 "cells": [
  {
   "cell_type": "markdown",
   "metadata": {},
   "source": [
    "# Multi-agent Examples\n",
    "\n",
    "In this example I show an example of an agent that writes a story using a series of steps.\n",
    "\n",
    "1. The user provides an idea for their story.\n",
    "2. `OutlineBot` generates an outline for the story including a topic, narrative arc, title, and individual chapter narratives, events, and titles.\n",
    "3. `StoryBot` creates the first chapter based on the chatper and overall story outines.\n",
    "4. `SummaryBot` creates a summary of the newly generated chapter.\n",
    "5. The chapter summary is passed to `StoryBot` along with section the outline to generate the next chapter.\n",
    "6. All chapter follow steps 3-5.\n",
    "...\n",
    "7. The chapter are combined into a full story.\n",
    "\n",
    "![Story bot design diagram](https://storage.googleapis.com/public_data_09324832787/story_bot_design.svg)"
   ]
  },
  {
   "cell_type": "code",
   "execution_count": 1,
   "metadata": {},
   "outputs": [],
   "source": [
    "import pydantic\n",
    "import typing\n",
    "import pathlib\n",
    "\n",
    "import sys\n",
    "sys.path.append('../src/')\n",
    "\n",
    "import simplechatbot\n",
    "from simplechatbot.openai_agent import OpenAIAgent\n",
    "from simplechatbot.ollama_agent import OllamaAgent"
   ]
  },
  {
   "cell_type": "markdown",
   "metadata": {},
   "source": [
    "First I create a new agent from OpenAI using the API stored in the keychain file. Most importantly, the agent maintains a LangChain chat model so we can use the `base_agent` to create new application-specific agents."
   ]
  },
  {
   "cell_type": "code",
   "execution_count": 2,
   "metadata": {},
   "outputs": [],
   "source": [
    "if True:\n",
    "    keychain = simplechatbot.APIKeyChain.from_json_file('../keys.json')\n",
    "    base_agent = OpenAIAgent.new(\n",
    "        model_name = 'gpt-4o-mini', \n",
    "        api_key=keychain['openai'],\n",
    "    )\n",
    "else:\n",
    "    base_agent = OllamaAgent.new(\n",
    "        model_name = 'llama3.1', \n",
    "    )"
   ]
  },
  {
   "cell_type": "markdown",
   "metadata": {},
   "source": [
    "Next we create the `StoryOutline` pydantic type to describe the structure of the output. Notice that the `StoryOutline` has a variable number of chapters, each with its own narrative, events, and title. Also note that the attribute order for `StoryOutline` follows the flow of topic, narrative, chapters, and then finally title. The values will be generated in that order, so we choose an ordering that most effectively can capture the process of producing creative stories.\n",
    "\n",
    "Also essential to this agent is the system prompt, which can be adjusted given feedback about outline qualities."
   ]
  },
  {
   "cell_type": "code",
   "execution_count": 3,
   "metadata": {},
   "outputs": [
    {
     "data": {
      "text/plain": [
       "<__main__.OutlineBot at 0x109b68770>"
      ]
     },
     "execution_count": 3,
     "metadata": {},
     "output_type": "execute_result"
    }
   ],
   "source": [
    "class ChapterOutline(pydantic.BaseModel):\n",
    "    \"\"\"Outline of a chapter in a story.\"\"\"\n",
    "    narrative_arc: str = pydantic.Field(description=\"The narrative arc of the story.\")\n",
    "    events: typing.List[str] = pydantic.Field(description=\"List of the most important events that happen in the chapter.\")\n",
    "    title: str = pydantic.Field(description=\"Title of the chapter.\")\n",
    "\n",
    "\n",
    "class StoryOutline(pydantic.BaseModel):\n",
    "    \"\"\"Outline of the story.\"\"\"\n",
    "    topic: str = pydantic.Field(description=\"The main topic of the story.\")\n",
    "    narrative_arc: str = pydantic.Field(description=\"The narrative arc of the story.\")\n",
    "    chapters: list[ChapterOutline] = pydantic.Field(description=\"List of chapters in the story.\")\n",
    "    title: str = pydantic.Field(description=\"Title of the story.\")\n",
    "\n",
    "class OutlineBot:\n",
    "    system_prompt = (\n",
    "        \"The user will provide you a description of a story, and you must create a chapter outline with titles and brief descriptions. \"\n",
    "        \"Each section should contain a title and a brief description of what happens in that section. \"\n",
    "        \"The sections should all be part of a single narrative ark, but each section should have a complete beginning, middle, and end. \"\n",
    "    )\n",
    "    def __init__(self, base_agent: simplechatbot.Agent):\n",
    "        self.agent = base_agent.new_agent_from_model(\n",
    "            system_prompt=self.system_prompt,\n",
    "        )\n",
    "\n",
    "    def create_outline(self, story_description: str) -> simplechatbot.StructuredOutputResult:\n",
    "        return self.agent.chat_structured(story_description, output_structure=StoryOutline)\n",
    "\n",
    "outline_bot = OutlineBot(base_agent)\n",
    "outline_bot"
   ]
  },
  {
   "cell_type": "markdown",
   "metadata": {},
   "source": [
    "Next we create `ChapterBot`, which will generate the actual chapter content based on information generated in the outline and a summary of the previous chapter (if one exists)."
   ]
  },
  {
   "cell_type": "code",
   "execution_count": 4,
   "metadata": {},
   "outputs": [],
   "source": [
    "class ChapterBot:\n",
    "    system_prompt = (\n",
    "        \"You are designed to write a single chapter of a larger story based on the following information: \\n\\n\"\n",
    "        \"+ Overall story topic: The topic of the full story.\\n\"\n",
    "        \"+ Chapter title: The title of the section you are writing.\\n\"\n",
    "        \"+ Chapter description: A longer description of what happens in the section.\\n\"\n",
    "        \"+ (optional) previous chapter summary: A summary of the previous chapter.\\n\"\n",
    "        \"Your responses should only include text that is part of the story. Do not include the chapter title \\n\"\n",
    "        \"or any other information that is not part of the story itself.\\n\"\n",
    "        \"The story chapter should be super short, so keep that in mind!\"\n",
    "    )\n",
    "\n",
    "    def __init__(self, base_agent: simplechatbot.Agent):\n",
    "        self.agent = base_agent.new_agent_from_model(\n",
    "            system_prompt=self.system_prompt,\n",
    "        )\n",
    "\n",
    "    def write_chapter(\n",
    "        self,\n",
    "        story_outline: StoryOutline,\n",
    "        chapter_outline: ChapterOutline,\n",
    "        prev_chapter_summary: typing.Optional[str] = None,\n",
    "    ) -> str:\n",
    "        prompt = (\n",
    "            f'General story topic: \"{story_outline.topic}\"\\n\\n'\n",
    "            f'Chapter title: \"{chapter_outline.title}\"\\n\\n'\n",
    "            f'Chapter narrative arc: \"{chapter_outline.narrative_arc}\"\\n\\n'\n",
    "            f'Previous chapter summary: \"{prev_chapter_summary if prev_chapter_summary is not None else \"No previous chapter - this is the first!\"}\"'\n",
    "        )\n",
    "        return self.agent.stream(prompt, add_to_history=False).progress_and_collect().content\n",
    "\n",
    "chapter_bot = ChapterBot(base_agent)"
   ]
  },
  {
   "cell_type": "markdown",
   "metadata": {},
   "source": [
    "Finally we create `SummaryBot`, which has the simple task of generating a summary of a given chapter."
   ]
  },
  {
   "cell_type": "code",
   "execution_count": 5,
   "metadata": {},
   "outputs": [],
   "source": [
    "class SummaryBot:\n",
    "    system_prompt = (\n",
    "        'You need to create a summary of the story chapter provided to you by the user. '\n",
    "        'The summary should include names of relevant characters and capture the story arc of the chapter. '\n",
    "    )\n",
    "\n",
    "    def __init__(self, base_agent: simplechatbot.Agent):\n",
    "        self.agent = base_agent.new_agent_from_model(\n",
    "            system_prompt=self.system_prompt,\n",
    "        )\n",
    "\n",
    "    def summarize(self, chapter_text: str) -> str:\n",
    "        prompt = (\n",
    "            f'Chapter text:\\n\\n{chapter_text}'\n",
    "        )\n",
    "        return self.agent.stream(prompt, add_to_history=False).progress_and_collect().content\n",
    "\n",
    "summary_bot = SummaryBot(base_agent)"
   ]
  },
  {
   "cell_type": "markdown",
   "metadata": {},
   "source": [
    "Now we can create a `Story` type to tie it all together: it will contain the overal narrative arc as well as individual chapter outline, text, and summaries. The `generate_from_topic` method accepts a topic and from there will generate an outline and sequentially generate chapters and chapter summaries of the story."
   ]
  },
  {
   "cell_type": "code",
   "execution_count": null,
   "metadata": {},
   "outputs": [],
   "source": [
    "import tqdm\n",
    "\n",
    "class Chapter(pydantic.BaseModel):\n",
    "    i: int\n",
    "    outline: ChapterOutline\n",
    "    text: str\n",
    "    summary: str\n",
    "\n",
    "class Story(pydantic.BaseModel):\n",
    "    outline: StoryOutline\n",
    "    chapters: typing.List[Chapter] = pydantic.Field(default_factory=list)\n",
    "\n",
    "    @classmethod\n",
    "    def generate_from_topic(\n",
    "        cls,\n",
    "        topic: str,\n",
    "        outline_bot: OutlineBot,\n",
    "        chapter_bot: ChapterBot,\n",
    "        summary_bot: SummaryBot,\n",
    "    ) -> typing.Self:\n",
    "        outline_result = outline_bot.create_outline(topic)\n",
    "        outline: StoryOutline = outline_result.data\n",
    "\n",
    "        chapters = list()\n",
    "        prev_summary = None\n",
    "        for i, chapter in enumerate(tqdm.tqdm(outline.chapters, ncols=80)):\n",
    "            chapter_text = chapter_bot.write_chapter(\n",
    "                story_outline=outline, \n",
    "                chapter_outline=chapter,\n",
    "                prev_chapter_summary=prev_summary,\n",
    "            )\n",
    "            summary = summary_bot.summarize(chapter_text)\n",
    "            prev_summary = summary\n",
    "            chapters.append(Chapter(i=i, outline=chapter, text=chapter_text, summary=summary))\n",
    "        return cls(outline=outline, chapters=chapters)\n",
    "    \n",
    "    def add_chapter(\n",
    "        self, \n",
    "        outline: ChapterOutline,\n",
    "        text: str,\n",
    "        summary: str,\n",
    "    ) -> None:\n",
    "        self.chapters.append(Chapter(outline=outline, text=text, summary=summary))\n",
    "        "
   ]
  },
  {
   "cell_type": "markdown",
   "metadata": {},
   "source": [
    "Finally, we define a topic and generate a new story!"
   ]
  },
  {
   "cell_type": "code",
   "execution_count": 10,
   "metadata": {},
   "outputs": [
    {
     "name": "stderr",
     "output_type": "stream",
     "text": [
      "342it [00:05, 63.03it/s]\n",
      "188it [00:02, 81.52it/s]\n",
      "257it [00:03, 72.37it/s]\n",
      "176it [00:02, 78.58it/s]\n",
      "439it [00:05, 79.36it/s]\n",
      "128it [00:01, 82.71it/s] \n",
      "355it [00:04, 82.32it/s]\n",
      "185it [00:04, 38.40it/s]\n",
      "457it [00:05, 80.11it/s]\n",
      "202it [00:02, 78.42it/s]\n",
      "355it [00:04, 81.00it/s]\n",
      "163it [00:01, 85.35it/s] \n",
      "6it [00:44,  7.39s/it]\n"
     ]
    }
   ],
   "source": [
    "q = (\n",
    "    f'The story should be about two friends who met when they were young and then lost touch.'\n",
    "    'They meet again as adults and have to navigate their new relationship. '\n",
    ")\n",
    "\n",
    "story = Story.generate_from_topic(\n",
    "    topic=q,\n",
    "    outline_bot=outline_bot,\n",
    "    chapter_bot=chapter_bot,\n",
    "    summary_bot=summary_bot,\n",
    ")"
   ]
  },
  {
   "cell_type": "code",
   "execution_count": 19,
   "metadata": {},
   "outputs": [
    {
     "data": {
      "text/plain": [
       "'Bridges to the Past'"
      ]
     },
     "execution_count": 19,
     "metadata": {},
     "output_type": "execute_result"
    }
   ],
   "source": [
    "story.outline.title"
   ]
  },
  {
   "cell_type": "code",
   "execution_count": 21,
   "metadata": {},
   "outputs": [
    {
     "name": "stdout",
     "output_type": "stream",
     "text": [
      "Two childhood friends, separated by life changes, reunite as adults and must grapple with their evolution while rekindling their bond.\n"
     ]
    }
   ],
   "source": [
    "print(story.outline.narrative_arc)"
   ]
  },
  {
   "cell_type": "code",
   "execution_count": 18,
   "metadata": {},
   "outputs": [],
   "source": [
    "dest = pathlib.Path('story_results/')\n",
    "dest.mkdir(parents=True, exist_ok=True)\n",
    "\n",
    "overview = f'''{story.outline.title}\n",
    "{len(story.outline.chapters)} Chapters\n",
    "\n",
    "Topic: {story.outline.topic}\n",
    "\n",
    "--------------------------------\n",
    "Narrative:\n",
    "{story.outline.narrative_arc}\n",
    "--------------------------------\n",
    "Chapters:\n",
    "\n",
    "'''\n",
    "overview += '\\n\\n'.join([f'{c.title}\\n{c.narrative_arc}' for c in story.outline.chapters])\n",
    "with dest.joinpath('overview.txt').open('w') as f:\n",
    "    f.write(overview)\n",
    "\n",
    "for chapter in story.chapters:\n",
    "    events = '\\n'.join([f'\\t{i+1}. {e}' for i, e in enumerate(chapter.outline.events)])\n",
    "    with dest.joinpath(f'{chapter.i}. {chapter.outline.title}.txt').open('w') as f:\n",
    "        f.write(f'{chapter.outline.title}\\n\\nNarrative: {chapter.outline.narrative_arc}\\n\\nEvents:\\n{events}\\n\\n------------------\\nSummary:\\n{chapter.summary}\\n\\n\\n------------------\\n{chapter.text}\\n\\n')"
   ]
  }
 ],
 "metadata": {
  "kernelspec": {
   "display_name": "base",
   "language": "python",
   "name": "python3"
  },
  "language_info": {
   "codemirror_mode": {
    "name": "ipython",
    "version": 3
   },
   "file_extension": ".py",
   "mimetype": "text/x-python",
   "name": "python",
   "nbconvert_exporter": "python",
   "pygments_lexer": "ipython3",
   "version": "3.12.4"
  }
 },
 "nbformat": 4,
 "nbformat_minor": 2
}
