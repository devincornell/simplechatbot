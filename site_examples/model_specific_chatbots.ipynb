{
 "cells": [
  {
   "cell_type": "markdown",
   "metadata": {},
   "source": [
    "# Model-specific ChatBots\n",
    "\n",
    "While `ChatBot` instances can be created from any Langchain Chat interface, we created some convenient superclasses that have varying levels of model-specific behavior.\n",
    "\n",
    "Model-specific chatbots only differ from `ChatBot` in that they define static factory constructor methods, all named `new`. As each chat model needs to be installed separately, they must be accessed via separate imports."
   ]
  },
  {
   "cell_type": "code",
   "execution_count": 5,
   "metadata": {},
   "outputs": [],
   "source": [
    "import sys\n",
    "sys.path.append('..')\n",
    "\n",
    "import simplechatbot"
   ]
  },
  {
   "cell_type": "markdown",
   "metadata": {},
   "source": [
    "I will use the keychain to manage API keys for OpenAI and Mistral."
   ]
  },
  {
   "cell_type": "code",
   "execution_count": 9,
   "metadata": {},
   "outputs": [],
   "source": [
    "keychain = simplechatbot.devin.APIKeyChain.from_json_file('../keys.json')"
   ]
  },
  {
   "cell_type": "markdown",
   "metadata": {},
   "source": [
    "Notice that we use a separate import statement to explicitly import the model-specific chatbots."
   ]
  },
  {
   "cell_type": "code",
   "execution_count": 10,
   "metadata": {},
   "outputs": [],
   "source": [
    "from simplechatbot.devin.ollama import OllamaChatBot\n",
    "\n",
    "chatbot = OllamaChatBot.new(\n",
    "    model_name = 'llama3.1', \n",
    ")"
   ]
  },
  {
   "cell_type": "code",
   "execution_count": 11,
   "metadata": {},
   "outputs": [],
   "source": [
    "from simplechatbot.devin.openai import OpenAIChatBot\n",
    "\n",
    "chatbot = OpenAIChatBot.new(\n",
    "    model_name = 'gpt-4o-mini', \n",
    "    api_key=keychain['openai'],\n",
    ")"
   ]
  },
  {
   "cell_type": "code",
   "execution_count": 12,
   "metadata": {},
   "outputs": [],
   "source": [
    "from simplechatbot.devin.mistral import MistralChatBot\n",
    "\n",
    "chatbot = MistralChatBot.new(\n",
    "    model_name = 'mistral-large-latest', \n",
    "    api_key=keychain['mistral'],\n",
    ")"
   ]
  }
 ],
 "metadata": {
  "kernelspec": {
   "display_name": "base",
   "language": "python",
   "name": "python3"
  },
  "language_info": {
   "codemirror_mode": {
    "name": "ipython",
    "version": 3
   },
   "file_extension": ".py",
   "mimetype": "text/x-python",
   "name": "python",
   "nbconvert_exporter": "python",
   "pygments_lexer": "ipython3",
   "version": "3.12.4"
  }
 },
 "nbformat": 4,
 "nbformat_minor": 2
}
