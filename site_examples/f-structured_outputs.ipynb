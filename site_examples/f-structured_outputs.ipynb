{
 "cells": [
  {
   "cell_type": "markdown",
   "metadata": {},
   "source": [
    "# Structured Outputs\n",
    "One of the most powerful features of LLMs is the ability to produce output which conforms to a pre-determined structure.\n",
    "\n",
    "We define output structures using custom Pydantic types with attribute descriptions and validation logics. See more about using Pydantic types for structured outputs using langchain [here](https://python.langchain.com/docs/concepts/structured_outputs/). This package builds on that functionality by making it easy to request structured output at any point in an exchange."
   ]
  },
  {
   "cell_type": "code",
   "execution_count": 1,
   "metadata": {},
   "outputs": [],
   "source": [
    "import pydantic\n",
    "\n",
    "import sys\n",
    "sys.path.append('../src/')\n",
    "\n",
    "import simplechatbot\n",
    "from simplechatbot.openai_chatbot import OpenAIChatBot"
   ]
  },
  {
   "cell_type": "code",
   "execution_count": 2,
   "metadata": {},
   "outputs": [
    {
     "name": "stdout",
     "output_type": "stream",
     "text": [
      "OpenAIChatBot(model_type=ChatOpenAI, model_name=\"gpt-4o-mini\", tools=ToolLookup(tools={}))\n"
     ]
    }
   ],
   "source": [
    "\n",
    "# optional: use this to grab keys from a json file rather than setting system variables\n",
    "keychain = simplechatbot.APIKeyChain.from_json_file('../keys.json')\n",
    "\n",
    "chatbot = OpenAIChatBot.new('gpt-4o-mini', api_key=keychain['openai'])\n",
    "print(chatbot)"
   ]
  },
  {
   "cell_type": "code",
   "execution_count": 3,
   "metadata": {},
   "outputs": [
    {
     "data": {
      "text/plain": [
       "[]"
      ]
     },
     "execution_count": 3,
     "metadata": {},
     "output_type": "execute_result"
    }
   ],
   "source": [
    "chatbot.history"
   ]
  },
  {
   "cell_type": "code",
   "execution_count": 4,
   "metadata": {},
   "outputs": [
    {
     "name": "stdout",
     "output_type": "stream",
     "text": [
      "Hello, Devin! I'm doing well, thank you. How can I assist you today?"
     ]
    },
    {
     "data": {
      "text/plain": [
       "ChatResult(content=Hello, Devin! I'm doing well, thank you. How can I assist you today?, tool_calls=[])"
      ]
     },
     "execution_count": 4,
     "metadata": {},
     "output_type": "execute_result"
    }
   ],
   "source": [
    "chatbot.stream('Hello, how are you? My name is Devin. Don\\'t forget it!').print_and_collect()"
   ]
  },
  {
   "cell_type": "code",
   "execution_count": 5,
   "metadata": {},
   "outputs": [
    {
     "name": "stdout",
     "output_type": "stream",
     "text": [
      "Human: Hello, how are you? My name is Devin. Don't forget it!\n",
      "AI: Hello, Devin! I'm doing well, thank you. How can I assist you today?\n"
     ]
    }
   ],
   "source": [
    "print(chatbot.history.get_buffer_string())"
   ]
  },
  {
   "cell_type": "code",
   "execution_count": 6,
   "metadata": {},
   "outputs": [
    {
     "data": {
      "text/plain": [
       "StructuredOutputResult(data=answer=\"I don't have personal preferences, but many people love the Maine Coon for its friendly personality and size, or the Siamese for its striking appearance and vocal nature. What's your favorite type of cat?\" followup_question='Do you have a cat, or are you thinking about getting one?')"
      ]
     },
     "execution_count": 6,
     "metadata": {},
     "output_type": "execute_result"
    }
   ],
   "source": [
    "class ResponseFormatter(pydantic.BaseModel):\n",
    "    \"\"\"Always use this tool to structure your response to the user.\"\"\"\n",
    "    answer: str = pydantic.Field(description=\"The answer to the user's question.\")\n",
    "    followup_question: str = pydantic.Field(description=\"A follow-up question the user could ask.\")\n",
    "\n",
    "chatbot.chat_structured('what is your favorite cat?', output_structure=ResponseFormatter)"
   ]
  },
  {
   "cell_type": "code",
   "execution_count": 7,
   "metadata": {},
   "outputs": [
    {
     "name": "stdout",
     "output_type": "stream",
     "text": [
      "Human: Hello, how are you? My name is Devin. Don't forget it!\n",
      "AI: Hello, Devin! I'm doing well, thank you. How can I assist you today?\n",
      "Human: what is your favorite cat?\n",
      "AI: {\"answer\":\"I don't have personal preferences, but many people love the Maine Coon for its friendly personality and size, or the Siamese for its striking appearance and vocal nature. What's your favorite type of cat?\",\"followup_question\":\"Do you have a cat, or are you thinking about getting one?\"}\n"
     ]
    }
   ],
   "source": [
    "print(chatbot.history.get_buffer_string())"
   ]
  },
  {
   "cell_type": "code",
   "execution_count": 8,
   "metadata": {},
   "outputs": [
    {
     "name": "stdout",
     "output_type": "stream",
     "text": [
      "Cats are definitely adorable! Their playful antics and unique personalities make them wonderful companions. Do you have a favorite cat breed, or do you just love all cats?"
     ]
    },
    {
     "data": {
      "text/plain": [
       "ChatResult(content=Cats are definitely adorable! Their playful antics and unique personalities make them wonderful companions. Do you have a favorite cat breed, or do you just love all cats?, tool_calls=[])"
      ]
     },
     "execution_count": 8,
     "metadata": {},
     "output_type": "execute_result"
    }
   ],
   "source": [
    "chatbot.stream('I like that they are so cute!').print_and_collect()"
   ]
  },
  {
   "cell_type": "code",
   "execution_count": 9,
   "metadata": {},
   "outputs": [
    {
     "name": "stdout",
     "output_type": "stream",
     "text": [
      "Human: Hello, how are you? My name is Devin. Don't forget it!\n",
      "AI: Hello, Devin! I'm doing well, thank you. How can I assist you today?\n",
      "Human: what is your favorite cat?\n",
      "AI: {\"answer\":\"I don't have personal preferences, but many people love the Maine Coon for its friendly personality and size, or the Siamese for its striking appearance and vocal nature. What's your favorite type of cat?\",\"followup_question\":\"Do you have a cat, or are you thinking about getting one?\"}\n",
      "Human: I like that they are so cute!\n",
      "AI: Cats are definitely adorable! Their playful antics and unique personalities make them wonderful companions. Do you have a favorite cat breed, or do you just love all cats?\n"
     ]
    }
   ],
   "source": [
    "print(chatbot.history.get_buffer_string())"
   ]
  },
  {
   "cell_type": "code",
   "execution_count": null,
   "metadata": {},
   "outputs": [
    {
     "data": {
      "text/plain": [
       "StructuredOutputResult(data=answer=\"I don't have personal favorites, but many people adore the Bengal cat for its unique spotted coat and energetic personality. What's your favorite thing about cats?\" followup_question='Are you considering adopting a cat soon?')"
      ]
     },
     "execution_count": 10,
     "metadata": {},
     "output_type": "execute_result"
    }
   ],
   "source": [
    "chatbot.chat_structured('what is your favorite cat?', output_structure=ResponseFormatter, add_to_history=False)"
   ]
  },
  {
   "cell_type": "code",
   "execution_count": 11,
   "metadata": {},
   "outputs": [
    {
     "name": "stdout",
     "output_type": "stream",
     "text": [
      "Human: Hello, how are you? My name is Devin. Don't forget it!\n",
      "AI: Hello, Devin! I'm doing well, thank you. How can I assist you today?\n",
      "Human: what is your favorite cat?\n",
      "AI: {\"answer\":\"I don't have personal preferences, but many people love the Maine Coon for its friendly personality and size, or the Siamese for its striking appearance and vocal nature. What's your favorite type of cat?\",\"followup_question\":\"Do you have a cat, or are you thinking about getting one?\"}\n",
      "Human: I like that they are so cute!\n",
      "AI: Cats are definitely adorable! Their playful antics and unique personalities make them wonderful companions. Do you have a favorite cat breed, or do you just love all cats?\n"
     ]
    }
   ],
   "source": [
    "print(chatbot.history.get_buffer_string())"
   ]
  }
 ],
 "metadata": {
  "kernelspec": {
   "display_name": "base",
   "language": "python",
   "name": "python3"
  },
  "language_info": {
   "codemirror_mode": {
    "name": "ipython",
    "version": 3
   },
   "file_extension": ".py",
   "mimetype": "text/x-python",
   "name": "python",
   "nbconvert_exporter": "python",
   "pygments_lexer": "ipython3",
   "version": "3.12.4"
  }
 },
 "nbformat": 4,
 "nbformat_minor": 2
}
